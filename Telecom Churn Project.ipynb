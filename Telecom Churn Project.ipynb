{
 "cells": [
  {
   "cell_type": "markdown",
   "id": "3e887393-ca0c-406a-a895-182bd11d33c1",
   "metadata": {},
   "source": [
    "<h1>Telecom Customer Churn Prediction and Analysis</h1>"
   ]
  },
  {
   "cell_type": "markdown",
   "id": "f5ce1911-42c7-48d1-a83f-7d3d1ae57132",
   "metadata": {},
   "source": [
    "# Goals of the notebook\n",
    "- Predict customer churn for a telecom company.\n",
    "- Identify key drivers of customer churn.\n",
    "- Make recommendations for customer retention."
   ]
  },
  {
   "cell_type": "markdown",
   "id": "3d1962ec-6742-46ab-932c-6fce13519016",
   "metadata": {
    "jp-MarkdownHeadingCollapsed": true
   },
   "source": [
    "<h1>Step 1: Setting Up the Notebook</h1>\n",
    "First, we need to import the necessary Python libraries that we'll use throughout our analysis. We'll also load the dataset to begin exploring the data."
   ]
  },
  {
   "cell_type": "code",
   "execution_count": 1,
   "id": "18a3481c-db54-4c4e-8090-4ba9cc11f013",
   "metadata": {},
   "outputs": [
    {
     "data": {
      "text/html": [
       "<div>\n",
       "<style scoped>\n",
       "    .dataframe tbody tr th:only-of-type {\n",
       "        vertical-align: middle;\n",
       "    }\n",
       "\n",
       "    .dataframe tbody tr th {\n",
       "        vertical-align: top;\n",
       "    }\n",
       "\n",
       "    .dataframe thead th {\n",
       "        text-align: right;\n",
       "    }\n",
       "</style>\n",
       "<table border=\"1\" class=\"dataframe\">\n",
       "  <thead>\n",
       "    <tr style=\"text-align: right;\">\n",
       "      <th></th>\n",
       "      <th>mobile_number</th>\n",
       "      <th>circle_id</th>\n",
       "      <th>loc_og_t2o_mou</th>\n",
       "      <th>std_og_t2o_mou</th>\n",
       "      <th>loc_ic_t2o_mou</th>\n",
       "      <th>last_date_of_month_6</th>\n",
       "      <th>last_date_of_month_7</th>\n",
       "      <th>last_date_of_month_8</th>\n",
       "      <th>last_date_of_month_9</th>\n",
       "      <th>arpu_6</th>\n",
       "      <th>...</th>\n",
       "      <th>sachet_3g_9</th>\n",
       "      <th>fb_user_6</th>\n",
       "      <th>fb_user_7</th>\n",
       "      <th>fb_user_8</th>\n",
       "      <th>fb_user_9</th>\n",
       "      <th>aon</th>\n",
       "      <th>aug_vbc_3g</th>\n",
       "      <th>jul_vbc_3g</th>\n",
       "      <th>jun_vbc_3g</th>\n",
       "      <th>sep_vbc_3g</th>\n",
       "    </tr>\n",
       "  </thead>\n",
       "  <tbody>\n",
       "    <tr>\n",
       "      <th>0</th>\n",
       "      <td>7000842753</td>\n",
       "      <td>109</td>\n",
       "      <td>0.0</td>\n",
       "      <td>0.0</td>\n",
       "      <td>0.0</td>\n",
       "      <td>6/30/2014</td>\n",
       "      <td>7/31/2014</td>\n",
       "      <td>8/31/2014</td>\n",
       "      <td>9/30/2014</td>\n",
       "      <td>197.385</td>\n",
       "      <td>...</td>\n",
       "      <td>0</td>\n",
       "      <td>1.0</td>\n",
       "      <td>1.0</td>\n",
       "      <td>1.0</td>\n",
       "      <td>NaN</td>\n",
       "      <td>968</td>\n",
       "      <td>30.4</td>\n",
       "      <td>0.0</td>\n",
       "      <td>101.20</td>\n",
       "      <td>3.58</td>\n",
       "    </tr>\n",
       "    <tr>\n",
       "      <th>1</th>\n",
       "      <td>7001865778</td>\n",
       "      <td>109</td>\n",
       "      <td>0.0</td>\n",
       "      <td>0.0</td>\n",
       "      <td>0.0</td>\n",
       "      <td>6/30/2014</td>\n",
       "      <td>7/31/2014</td>\n",
       "      <td>8/31/2014</td>\n",
       "      <td>9/30/2014</td>\n",
       "      <td>34.047</td>\n",
       "      <td>...</td>\n",
       "      <td>0</td>\n",
       "      <td>NaN</td>\n",
       "      <td>1.0</td>\n",
       "      <td>1.0</td>\n",
       "      <td>NaN</td>\n",
       "      <td>1006</td>\n",
       "      <td>0.0</td>\n",
       "      <td>0.0</td>\n",
       "      <td>0.00</td>\n",
       "      <td>0.00</td>\n",
       "    </tr>\n",
       "    <tr>\n",
       "      <th>2</th>\n",
       "      <td>7001625959</td>\n",
       "      <td>109</td>\n",
       "      <td>0.0</td>\n",
       "      <td>0.0</td>\n",
       "      <td>0.0</td>\n",
       "      <td>6/30/2014</td>\n",
       "      <td>7/31/2014</td>\n",
       "      <td>8/31/2014</td>\n",
       "      <td>9/30/2014</td>\n",
       "      <td>167.690</td>\n",
       "      <td>...</td>\n",
       "      <td>0</td>\n",
       "      <td>NaN</td>\n",
       "      <td>NaN</td>\n",
       "      <td>NaN</td>\n",
       "      <td>1.0</td>\n",
       "      <td>1103</td>\n",
       "      <td>0.0</td>\n",
       "      <td>0.0</td>\n",
       "      <td>4.17</td>\n",
       "      <td>0.00</td>\n",
       "    </tr>\n",
       "    <tr>\n",
       "      <th>3</th>\n",
       "      <td>7001204172</td>\n",
       "      <td>109</td>\n",
       "      <td>0.0</td>\n",
       "      <td>0.0</td>\n",
       "      <td>0.0</td>\n",
       "      <td>6/30/2014</td>\n",
       "      <td>7/31/2014</td>\n",
       "      <td>8/31/2014</td>\n",
       "      <td>9/30/2014</td>\n",
       "      <td>221.338</td>\n",
       "      <td>...</td>\n",
       "      <td>0</td>\n",
       "      <td>NaN</td>\n",
       "      <td>NaN</td>\n",
       "      <td>NaN</td>\n",
       "      <td>NaN</td>\n",
       "      <td>2491</td>\n",
       "      <td>0.0</td>\n",
       "      <td>0.0</td>\n",
       "      <td>0.00</td>\n",
       "      <td>0.00</td>\n",
       "    </tr>\n",
       "    <tr>\n",
       "      <th>4</th>\n",
       "      <td>7000142493</td>\n",
       "      <td>109</td>\n",
       "      <td>0.0</td>\n",
       "      <td>0.0</td>\n",
       "      <td>0.0</td>\n",
       "      <td>6/30/2014</td>\n",
       "      <td>7/31/2014</td>\n",
       "      <td>8/31/2014</td>\n",
       "      <td>9/30/2014</td>\n",
       "      <td>261.636</td>\n",
       "      <td>...</td>\n",
       "      <td>0</td>\n",
       "      <td>0.0</td>\n",
       "      <td>NaN</td>\n",
       "      <td>NaN</td>\n",
       "      <td>NaN</td>\n",
       "      <td>1526</td>\n",
       "      <td>0.0</td>\n",
       "      <td>0.0</td>\n",
       "      <td>0.00</td>\n",
       "      <td>0.00</td>\n",
       "    </tr>\n",
       "  </tbody>\n",
       "</table>\n",
       "<p>5 rows × 226 columns</p>\n",
       "</div>"
      ],
      "text/plain": [
       "   mobile_number  circle_id  loc_og_t2o_mou  std_og_t2o_mou  loc_ic_t2o_mou  \\\n",
       "0     7000842753        109             0.0             0.0             0.0   \n",
       "1     7001865778        109             0.0             0.0             0.0   \n",
       "2     7001625959        109             0.0             0.0             0.0   \n",
       "3     7001204172        109             0.0             0.0             0.0   \n",
       "4     7000142493        109             0.0             0.0             0.0   \n",
       "\n",
       "  last_date_of_month_6 last_date_of_month_7 last_date_of_month_8  \\\n",
       "0            6/30/2014            7/31/2014            8/31/2014   \n",
       "1            6/30/2014            7/31/2014            8/31/2014   \n",
       "2            6/30/2014            7/31/2014            8/31/2014   \n",
       "3            6/30/2014            7/31/2014            8/31/2014   \n",
       "4            6/30/2014            7/31/2014            8/31/2014   \n",
       "\n",
       "  last_date_of_month_9   arpu_6  ...  sachet_3g_9  fb_user_6  fb_user_7  \\\n",
       "0            9/30/2014  197.385  ...            0        1.0        1.0   \n",
       "1            9/30/2014   34.047  ...            0        NaN        1.0   \n",
       "2            9/30/2014  167.690  ...            0        NaN        NaN   \n",
       "3            9/30/2014  221.338  ...            0        NaN        NaN   \n",
       "4            9/30/2014  261.636  ...            0        0.0        NaN   \n",
       "\n",
       "   fb_user_8  fb_user_9   aon  aug_vbc_3g  jul_vbc_3g  jun_vbc_3g  sep_vbc_3g  \n",
       "0        1.0        NaN   968        30.4         0.0      101.20        3.58  \n",
       "1        1.0        NaN  1006         0.0         0.0        0.00        0.00  \n",
       "2        NaN        1.0  1103         0.0         0.0        4.17        0.00  \n",
       "3        NaN        NaN  2491         0.0         0.0        0.00        0.00  \n",
       "4        NaN        NaN  1526         0.0         0.0        0.00        0.00  \n",
       "\n",
       "[5 rows x 226 columns]"
      ]
     },
     "execution_count": 1,
     "metadata": {},
     "output_type": "execute_result"
    }
   ],
   "source": [
    "# Importing essential libraries for data manipulation, visualization, and modeling\n",
    "import pandas as pd  # For data manipulation\n",
    "import numpy as np   # For numerical operations\n",
    "import matplotlib.pyplot as plt  # For visualizations\n",
    "import seaborn as sns  # For more aesthetic visualizations\n",
    "import warnings  # To handle warnings\n",
    "\n",
    "# Ignore warnings for cleaner output\n",
    "warnings.filterwarnings('ignore')\n",
    "\n",
    "# Load the dataset\n",
    "data_path = 'telecom_churn_data.csv'  #data path\n",
    "churn_data = pd.read_csv(data_path)\n",
    "\n",
    "# Display the first few rows to understand the dataset structure\n",
    "churn_data.head()"
   ]
  },
  {
   "cell_type": "markdown",
   "id": "e3dfb5ef-0f59-46a1-99e7-4c3b3f9b1468",
   "metadata": {},
   "source": [
    "<h1>Step 2: Initial Data Understanding & Summary</h1>\n",
    "Let us begin by understanding the structure of our data which includes understanding what columns we have, their data types, and if there are any missing values."
   ]
  },
  {
   "cell_type": "code",
   "execution_count": 2,
   "id": "6741a779-7bf2-4a94-885b-d9990b050ea9",
   "metadata": {},
   "outputs": [
    {
     "name": "stdout",
     "output_type": "stream",
     "text": [
      "<class 'pandas.core.frame.DataFrame'>\n",
      "RangeIndex: 99999 entries, 0 to 99998\n",
      "Columns: 226 entries, mobile_number to sep_vbc_3g\n",
      "dtypes: float64(179), int64(35), object(12)\n",
      "memory usage: 172.4+ MB\n"
     ]
    },
    {
     "data": {
      "text/plain": [
       "loc_og_t2o_mou           1018\n",
       "std_og_t2o_mou           1018\n",
       "loc_ic_t2o_mou           1018\n",
       "last_date_of_month_7      601\n",
       "last_date_of_month_8     1100\n",
       "                        ...  \n",
       "night_pck_user_9        74077\n",
       "fb_user_6               74846\n",
       "fb_user_7               74428\n",
       "fb_user_8               73660\n",
       "fb_user_9               74077\n",
       "Length: 166, dtype: int64"
      ]
     },
     "execution_count": 2,
     "metadata": {},
     "output_type": "execute_result"
    }
   ],
   "source": [
    "# Overview of the dataset\n",
    "churn_data.info()\n",
    "\n",
    "# Checking for missing values in the dataset\n",
    "missing_values_summary = churn_data.isnull().sum()\n",
    "\n",
    "# Display columns with missing values, if any\n",
    "missing_values_summary[missing_values_summary > 0]"
   ]
  },
  {
   "cell_type": "markdown",
   "id": "cbbbc5ee-27aa-49c1-bb82-3be9abaa9223",
   "metadata": {},
   "source": [
    "<h1>Step 3: Data Cleaning and Preparation</h1>\n",
    "We will now handle missing values in our dataset. The strategy to handle missing values will be by either filling with 0 (where it implies no activity) or imputing with median values (for revenue-related metrics)."
   ]
  },
  {
   "cell_type": "code",
   "execution_count": 3,
   "id": "a2131a78-61af-4d87-82b9-63a9ac1a33c2",
   "metadata": {},
   "outputs": [
    {
     "data": {
      "text/plain": [
       "loc_og_t2o_mou               1018\n",
       "std_og_t2o_mou               1018\n",
       "loc_ic_t2o_mou               1018\n",
       "last_date_of_month_7          601\n",
       "last_date_of_month_8         1100\n",
       "                            ...  \n",
       "date_of_last_rech_9          4760\n",
       "date_of_last_rech_data_6    74846\n",
       "date_of_last_rech_data_7    74428\n",
       "date_of_last_rech_data_8    73660\n",
       "date_of_last_rech_data_9    74077\n",
       "Length: 130, dtype: int64"
      ]
     },
     "execution_count": 3,
     "metadata": {},
     "output_type": "execute_result"
    }
   ],
   "source": [
    "# Columns with missing values that represent usage metrics (e.g., recharge count, data usage)\n",
    "# Imputing missing values with 0 where missing data implies no activity\n",
    "columns_to_fill_with_zero = [\n",
    "    'night_pck_user_6', 'night_pck_user_7', 'night_pck_user_8', 'night_pck_user_9',\n",
    "    'fb_user_6', 'fb_user_7', 'fb_user_8', 'fb_user_9',\n",
    "    'count_rech_2g_6', 'count_rech_2g_7', 'count_rech_2g_8', 'count_rech_2g_9',\n",
    "    'count_rech_3g_6', 'count_rech_3g_7', 'count_rech_3g_8', 'count_rech_3g_9',\n",
    "    'total_rech_data_6', 'total_rech_data_7', 'total_rech_data_8', 'total_rech_data_9'\n",
    "]\n",
    "\n",
    "churn_data[columns_to_fill_with_zero] = churn_data[columns_to_fill_with_zero].fillna(0)\n",
    "\n",
    "# For revenue metrics or important numeric features, we will impute using median values\n",
    "columns_to_impute_with_median = [\n",
    "    'arpu_2g_6', 'arpu_2g_7', 'arpu_2g_8', 'arpu_2g_9',\n",
    "    'arpu_3g_6', 'arpu_3g_7', 'arpu_3g_8', 'arpu_3g_9',\n",
    "    'max_rech_data_6', 'max_rech_data_7', 'max_rech_data_8', 'max_rech_data_9',\n",
    "    'av_rech_amt_data_6', 'av_rech_amt_data_7', 'av_rech_amt_data_8', 'av_rech_amt_data_9'\n",
    "]\n",
    "\n",
    "for column in columns_to_impute_with_median:\n",
    "    churn_data[column].fillna(churn_data[column].median(), inplace=True)\n",
    "\n",
    "# Verify if there are any remaining missing values\n",
    "remaining_missing_values = churn_data.isnull().sum()\n",
    "remaining_missing_values[remaining_missing_values > 0]"
   ]
  },
  {
   "cell_type": "markdown",
   "id": "385d0b8a-fea9-44e5-b0e9-92cdf2755a0d",
   "metadata": {},
   "source": [
    "<h1>Step 4: Identifying High-Value Customers</h1>\n",
    "Next, we will filter our dataset to focus on high-value customers. High-value customers are those whose average recharge amount in the first two months (June and July) is above the 70th percentile."
   ]
  },
  {
   "cell_type": "code",
   "execution_count": 4,
   "id": "6c63606f-7c4e-4254-9832-67fe12e32896",
   "metadata": {},
   "outputs": [
    {
     "data": {
      "text/plain": [
       "(30011, 227)"
      ]
     },
     "execution_count": 4,
     "metadata": {},
     "output_type": "execute_result"
    }
   ],
   "source": [
    "# Calculate the average recharge amount for the first two months (June and July)\n",
    "churn_data['avg_rech_amt_6_7'] = (churn_data['total_rech_amt_6'] + churn_data['total_rech_amt_7']) / 2\n",
    "\n",
    "# Define high-value customers as those above the 70th percentile of average recharge amount\n",
    "percentile_70_value = churn_data['avg_rech_amt_6_7'].quantile(0.70)\n",
    "high_value_customers = churn_data[churn_data['avg_rech_amt_6_7'] >= percentile_70_value]\n",
    "\n",
    "# Display the number of high-value customers\n",
    "high_value_customers.shape"
   ]
  },
  {
   "cell_type": "markdown",
   "id": "53487875-2fab-487f-be94-04f588b42bbe",
   "metadata": {},
   "source": [
    "<h1>Step 5: Tagging Churn Customers</h1>\n",
    "Now, we will define our target variable (churn). A customer is considered to have churned if they have not made any calls (incoming or outgoing) and have not used mobile internet in the last month (September). We will also remove the churn-phase attributes to prevent data leakage."
   ]
  },
  {
   "cell_type": "code",
   "execution_count": 5,
   "id": "b8ff3200-16a6-49a7-b963-2e2b5d3d22c9",
   "metadata": {},
   "outputs": [
    {
     "data": {
      "text/html": [
       "<div>\n",
       "<style scoped>\n",
       "    .dataframe tbody tr th:only-of-type {\n",
       "        vertical-align: middle;\n",
       "    }\n",
       "\n",
       "    .dataframe tbody tr th {\n",
       "        vertical-align: top;\n",
       "    }\n",
       "\n",
       "    .dataframe thead th {\n",
       "        text-align: right;\n",
       "    }\n",
       "</style>\n",
       "<table border=\"1\" class=\"dataframe\">\n",
       "  <thead>\n",
       "    <tr style=\"text-align: right;\">\n",
       "      <th></th>\n",
       "      <th>mobile_number</th>\n",
       "      <th>circle_id</th>\n",
       "      <th>loc_og_t2o_mou</th>\n",
       "      <th>std_og_t2o_mou</th>\n",
       "      <th>loc_ic_t2o_mou</th>\n",
       "      <th>last_date_of_month_6</th>\n",
       "      <th>last_date_of_month_7</th>\n",
       "      <th>last_date_of_month_8</th>\n",
       "      <th>arpu_6</th>\n",
       "      <th>arpu_7</th>\n",
       "      <th>...</th>\n",
       "      <th>fb_user_6</th>\n",
       "      <th>fb_user_7</th>\n",
       "      <th>fb_user_8</th>\n",
       "      <th>aon</th>\n",
       "      <th>aug_vbc_3g</th>\n",
       "      <th>jul_vbc_3g</th>\n",
       "      <th>jun_vbc_3g</th>\n",
       "      <th>sep_vbc_3g</th>\n",
       "      <th>avg_rech_amt_6_7</th>\n",
       "      <th>churn</th>\n",
       "    </tr>\n",
       "  </thead>\n",
       "  <tbody>\n",
       "    <tr>\n",
       "      <th>7</th>\n",
       "      <td>7000701601</td>\n",
       "      <td>109</td>\n",
       "      <td>0.0</td>\n",
       "      <td>0.0</td>\n",
       "      <td>0.0</td>\n",
       "      <td>6/30/2014</td>\n",
       "      <td>7/31/2014</td>\n",
       "      <td>8/31/2014</td>\n",
       "      <td>1069.180</td>\n",
       "      <td>1349.850</td>\n",
       "      <td>...</td>\n",
       "      <td>0.0</td>\n",
       "      <td>0.0</td>\n",
       "      <td>0.0</td>\n",
       "      <td>802</td>\n",
       "      <td>57.74</td>\n",
       "      <td>19.38</td>\n",
       "      <td>18.74</td>\n",
       "      <td>0.0</td>\n",
       "      <td>1185.0</td>\n",
       "      <td>1</td>\n",
       "    </tr>\n",
       "    <tr>\n",
       "      <th>8</th>\n",
       "      <td>7001524846</td>\n",
       "      <td>109</td>\n",
       "      <td>0.0</td>\n",
       "      <td>0.0</td>\n",
       "      <td>0.0</td>\n",
       "      <td>6/30/2014</td>\n",
       "      <td>7/31/2014</td>\n",
       "      <td>8/31/2014</td>\n",
       "      <td>378.721</td>\n",
       "      <td>492.223</td>\n",
       "      <td>...</td>\n",
       "      <td>0.0</td>\n",
       "      <td>1.0</td>\n",
       "      <td>1.0</td>\n",
       "      <td>315</td>\n",
       "      <td>21.03</td>\n",
       "      <td>910.65</td>\n",
       "      <td>122.16</td>\n",
       "      <td>0.0</td>\n",
       "      <td>519.0</td>\n",
       "      <td>0</td>\n",
       "    </tr>\n",
       "    <tr>\n",
       "      <th>13</th>\n",
       "      <td>7002191713</td>\n",
       "      <td>109</td>\n",
       "      <td>0.0</td>\n",
       "      <td>0.0</td>\n",
       "      <td>0.0</td>\n",
       "      <td>6/30/2014</td>\n",
       "      <td>7/31/2014</td>\n",
       "      <td>8/31/2014</td>\n",
       "      <td>492.846</td>\n",
       "      <td>205.671</td>\n",
       "      <td>...</td>\n",
       "      <td>0.0</td>\n",
       "      <td>0.0</td>\n",
       "      <td>1.0</td>\n",
       "      <td>2607</td>\n",
       "      <td>0.00</td>\n",
       "      <td>0.00</td>\n",
       "      <td>0.00</td>\n",
       "      <td>0.0</td>\n",
       "      <td>380.0</td>\n",
       "      <td>0</td>\n",
       "    </tr>\n",
       "    <tr>\n",
       "      <th>16</th>\n",
       "      <td>7000875565</td>\n",
       "      <td>109</td>\n",
       "      <td>0.0</td>\n",
       "      <td>0.0</td>\n",
       "      <td>0.0</td>\n",
       "      <td>6/30/2014</td>\n",
       "      <td>7/31/2014</td>\n",
       "      <td>8/31/2014</td>\n",
       "      <td>430.975</td>\n",
       "      <td>299.869</td>\n",
       "      <td>...</td>\n",
       "      <td>0.0</td>\n",
       "      <td>0.0</td>\n",
       "      <td>0.0</td>\n",
       "      <td>511</td>\n",
       "      <td>0.00</td>\n",
       "      <td>2.45</td>\n",
       "      <td>21.89</td>\n",
       "      <td>0.0</td>\n",
       "      <td>459.0</td>\n",
       "      <td>0</td>\n",
       "    </tr>\n",
       "    <tr>\n",
       "      <th>17</th>\n",
       "      <td>7000187447</td>\n",
       "      <td>109</td>\n",
       "      <td>0.0</td>\n",
       "      <td>0.0</td>\n",
       "      <td>0.0</td>\n",
       "      <td>6/30/2014</td>\n",
       "      <td>7/31/2014</td>\n",
       "      <td>8/31/2014</td>\n",
       "      <td>690.008</td>\n",
       "      <td>18.980</td>\n",
       "      <td>...</td>\n",
       "      <td>0.0</td>\n",
       "      <td>0.0</td>\n",
       "      <td>0.0</td>\n",
       "      <td>667</td>\n",
       "      <td>0.00</td>\n",
       "      <td>0.00</td>\n",
       "      <td>0.00</td>\n",
       "      <td>0.0</td>\n",
       "      <td>408.0</td>\n",
       "      <td>0</td>\n",
       "    </tr>\n",
       "  </tbody>\n",
       "</table>\n",
       "<p>5 rows × 174 columns</p>\n",
       "</div>"
      ],
      "text/plain": [
       "    mobile_number  circle_id  loc_og_t2o_mou  std_og_t2o_mou  loc_ic_t2o_mou  \\\n",
       "7      7000701601        109             0.0             0.0             0.0   \n",
       "8      7001524846        109             0.0             0.0             0.0   \n",
       "13     7002191713        109             0.0             0.0             0.0   \n",
       "16     7000875565        109             0.0             0.0             0.0   \n",
       "17     7000187447        109             0.0             0.0             0.0   \n",
       "\n",
       "   last_date_of_month_6 last_date_of_month_7 last_date_of_month_8    arpu_6  \\\n",
       "7             6/30/2014            7/31/2014            8/31/2014  1069.180   \n",
       "8             6/30/2014            7/31/2014            8/31/2014   378.721   \n",
       "13            6/30/2014            7/31/2014            8/31/2014   492.846   \n",
       "16            6/30/2014            7/31/2014            8/31/2014   430.975   \n",
       "17            6/30/2014            7/31/2014            8/31/2014   690.008   \n",
       "\n",
       "      arpu_7  ...  fb_user_6  fb_user_7  fb_user_8   aon  aug_vbc_3g  \\\n",
       "7   1349.850  ...        0.0        0.0        0.0   802       57.74   \n",
       "8    492.223  ...        0.0        1.0        1.0   315       21.03   \n",
       "13   205.671  ...        0.0        0.0        1.0  2607        0.00   \n",
       "16   299.869  ...        0.0        0.0        0.0   511        0.00   \n",
       "17    18.980  ...        0.0        0.0        0.0   667        0.00   \n",
       "\n",
       "    jul_vbc_3g  jun_vbc_3g  sep_vbc_3g  avg_rech_amt_6_7  churn  \n",
       "7        19.38       18.74         0.0            1185.0      1  \n",
       "8       910.65      122.16         0.0             519.0      0  \n",
       "13        0.00        0.00         0.0             380.0      0  \n",
       "16        2.45       21.89         0.0             459.0      0  \n",
       "17        0.00        0.00         0.0             408.0      0  \n",
       "\n",
       "[5 rows x 174 columns]"
      ]
     },
     "execution_count": 5,
     "metadata": {},
     "output_type": "execute_result"
    }
   ],
   "source": [
    "# Tagging churned customers based on the churn phase (September)\n",
    "# Churn criteria: No incoming calls, no outgoing calls, and no mobile internet usage in month 9\n",
    "high_value_customers['churn'] = high_value_customers.apply(\n",
    "    lambda row: 1 if (\n",
    "        row['total_ic_mou_9'] == 0 and\n",
    "        row['total_og_mou_9'] == 0 and\n",
    "        row['vol_2g_mb_9'] == 0 and\n",
    "        row['vol_3g_mb_9'] == 0\n",
    "    ) else 0, axis=1\n",
    ")\n",
    "\n",
    "# Remove all the attributes corresponding to the churn phase\n",
    "columns_to_remove = [col for col in high_value_customers.columns if '_9' in col]\n",
    "high_value_customers_cleaned = high_value_customers.drop(columns=columns_to_remove)\n",
    "\n",
    "# Check the updated dataset\n",
    "high_value_customers_cleaned.head()"
   ]
  },
  {
   "cell_type": "markdown",
   "id": "16c8a66d-cba8-420f-9b59-b62d1f813290",
   "metadata": {},
   "source": [
    "<h1>Step 6: Exploratory Data Analysis (EDA)</h1>\n",
    "The purpose of this step is to explore the characteristics of churned vs non-churned customers visually. This will help us understand key differences and potentially important features that might be useful in predicting churn."
   ]
  },
  {
   "cell_type": "markdown",
   "id": "d02061d8-81ea-4ddb-b175-19c3952e6642",
   "metadata": {
    "jp-MarkdownHeadingCollapsed": true
   },
   "source": [
    "<h2>Step 6.1:Exploratory Data Analysis (EDA) Overview</h2>\n",
    "In this section, we will conduct Exploratory Data Analysis (EDA) to better understand customer behavior, especially focusing on comparing churned and non-churned customers. This will help us gain insights into patterns that might indicate reasons for churn."
   ]
  },
  {
   "cell_type": "markdown",
   "id": "337dbb39-20a5-4668-a2d1-8f8d48e26763",
   "metadata": {},
   "source": [
    "<h2>Step 6.2: Count of Churned vs Non-Churned Customers</h2>\n",
    "Let’s start by visualizing the count of churned vs non-churned customers to understand the class imbalance."
   ]
  },
  {
   "cell_type": "code",
   "execution_count": 6,
   "id": "ca9208dd-7223-4d1d-890c-f8c45088f767",
   "metadata": {},
   "outputs": [
    {
     "data": {
      "image/png": "[encoded data removed]",
      "text/plain": [
       "<Figure size 800x600 with 1 Axes>"
      ]
     },
     "metadata": {},
     "output_type": "display_data"
    }
   ],
   "source": [
    "# Importing visualization libraries\n",
    "import matplotlib.pyplot as plt\n",
    "import seaborn as sns\n",
    "\n",
    "# Countplot for churned vs non-churned customers\n",
    "plt.figure(figsize=(8, 6))\n",
    "sns.countplot(x='churn', data=high_value_customers_cleaned, palette='viridis')\n",
    "plt.title('Churned vs Non-Churned Customers')\n",
    "plt.xlabel('Churn')\n",
    "plt.ylabel('Count')\n",
    "plt.show()"
   ]
  },
  {
   "cell_type": "markdown",
   "id": "2a12ce65-7bc3-42c1-bd19-1eb5dd23d87a",
   "metadata": {},
   "source": [
    "<h2>Step 6.3: Revenue and Recharge Patterns for Churned vs Non-Churned Customers</h2><br>\n",
    "Next, let’s analyze the revenue and recharge behavior of customers to see if there are any patterns related to churn. We will focus on ARPU (Average Revenue Per User) and recharge data."
   ]
  },
  {
   "cell_type": "code",
   "execution_count": 7,
   "id": "15747d0c-d635-4c62-9333-4e3cbb411a13",
   "metadata": {},
   "outputs": [
    {
     "data": {
      "image/png": "[encoded data removed]",
      "text/plain": [
       "<Figure size 1200x600 with 1 Axes>"
      ]
     },
     "metadata": {},
     "output_type": "display_data"
    },
    {
     "data": {
      "image/png": "[encoded data removed]",
      "text/plain": [
       "<Figure size 1200x600 with 1 Axes>"
      ]
     },
     "metadata": {},
     "output_type": "display_data"
    }
   ],
   "source": [
    "# Average Revenue Per User (ARPU) analysis for churned and non-churned customers\n",
    "plt.figure(figsize=(12, 6))\n",
    "sns.boxplot(x='churn', y='arpu_6', data=high_value_customers_cleaned, palette='viridis')\n",
    "plt.title('ARPU in June for Churned vs Non-Churned Customers')\n",
    "plt.xlabel('Churn')\n",
    "plt.ylabel('ARPU in June')\n",
    "plt.show()\n",
    "\n",
    "# Total recharge data analysis for churned vs non-churned customers in August (action phase)\n",
    "plt.figure(figsize=(12, 6))\n",
    "sns.boxplot(x='churn', y='total_rech_data_8', data=high_value_customers_cleaned, palette='viridis')\n",
    "plt.title('Total Recharge Data in August for Churned vs Non-Churned Customers')\n",
    "plt.xlabel('Churn')\n",
    "plt.ylabel('Total Recharge Data in August')\n",
    "plt.show()"
   ]
  },
  {
   "cell_type": "markdown",
   "id": "51d28366-ed78-441d-9354-7e6b6b625668",
   "metadata": {},
   "source": [
    "<h2>Step 6.4: Data Usage Patterns for Churned vs Non-Churned Customers</h2><br>\n",
    "Let’s explore the data usage patterns of customers, specifically their 2G and 3G data consumption. This could give us clues as to whether decreased data usage is associated with customer churn."
   ]
  },
  {
   "cell_type": "code",
   "execution_count": 8,
   "id": "d25b7199-1650-4e9b-9937-f347187cb465",
   "metadata": {},
   "outputs": [
    {
     "data": {
      "image/png": "[encoded data removed]",
      "text/plain": [
       "<Figure size 1200x600 with 1 Axes>"
      ]
     },
     "metadata": {},
     "output_type": "display_data"
    },
    {
     "data": {
      "image/png": "[encoded data removed]",
      "text/plain": [
       "<Figure size 1200x600 with 1 Axes>"
      ]
     },
     "metadata": {},
     "output_type": "display_data"
    }
   ],
   "source": [
    "# Data usage analysis (2G and 3G volume) for churned vs non-churned customers in August (action phase)\n",
    "plt.figure(figsize=(12, 6))\n",
    "sns.boxplot(x='churn', y='vol_3g_mb_8', data=high_value_customers_cleaned, palette='viridis')\n",
    "plt.title('Volume of 3G Data Usage in August for Churned vs Non-Churned Customers')\n",
    "plt.xlabel('Churn')\n",
    "plt.ylabel('Volume of 3G Data in August (MB)')\n",
    "plt.show()\n",
    "\n",
    "plt.figure(figsize=(12, 6))\n",
    "sns.boxplot(x='churn', y='vol_2g_mb_8', data=high_value_customers_cleaned, palette='viridis')\n",
    "plt.title('Volume of 2G Data Usage in August for Churned vs Non-Churned Customers')\n",
    "plt.xlabel('Churn')\n",
    "plt.ylabel('Volume of 2G Data in August (MB)')\n",
    "plt.show()"
   ]
  },
  {
   "cell_type": "markdown",
   "id": "e513e10c-024d-4850-afd4-4f5c6b1a5817",
   "metadata": {
    "jp-MarkdownHeadingCollapsed": true
   },
   "source": [
    "<h2>Step 6.5: Key Observations from Exploratory Data Analysis (EDA)</h2>\n",
    "\n",
    "<h3>1. Class Imbalance in Churn Distribution</h3>\n",
    "<ul>\n",
    "  <li>There is a significant class imbalance in the dataset, as the number of <b>non-churned customers</b> greatly exceeds the number of <b>churned customers</b>.</li>\n",
    "  <li>This indicates that special techniques will be needed during modeling to handle this imbalance effectively, such as <b>resampling techniques</b> or <b>using class weights</b> to prevent the model from being biased towards the non-churn class.</li>\n",
    "</ul>\n",
    "\n",
    "<h3>2. Average Revenue Per User (ARPU) Comparison</h3>\n",
    "<ul>\n",
    "  <li>The boxplot reveals that <b>churned customers have a lower ARPU</b> compared to non-churned customers.</li>\n",
    "  <li>This trend suggests that customers with declining spending patterns are more likely to churn, implying <b>reduced engagement or dissatisfaction</b> with the service.</li>\n",
    "</ul>\n",
    "\n",
    "<h3>3. Total Recharge Data in August (Action Phase)</h3>\n",
    "<ul>\n",
    "  <li>Churned customers typically have lower <b>total recharge amounts</b> compared to non-churned customers.</li>\n",
    "  <li>Lower recharges can be an early indicator of <b>disengagement</b>, and these customers could be targeted with retention offers or improved services.</li>\n",
    "</ul>\n",
    "\n",
    "<h3>4. Data Usage Patterns (2G/3G)</h3>\n",
    "<ul>\n",
    "  <li>Churned customers use significantly less <b>2G and 3G data</b> compared to non-churned customers in the action phase (August).</li>\n",
    "  <li><b>Reduced data usage</b> may be an important signal of churn, suggesting a decline in reliance on the network before eventual departure.</li>\n",
    "</ul>\n",
    "\n",
    "<h3>Implications for Modeling and Business Strategy</h3>\n",
    "<ul>\n",
    "  <li><b>Feature Importance</b>: Features related to ARPU, recharge amounts, and data usage are likely to be key indicators for predicting churn.</li>\n",
    "  <li><b>Class Imbalance</b>: Given the imbalance, techniques such as <b>SMOTE</b>, <b>undersampling</b>, or adjusting <b>class weights</b> will be needed to ensure balanced treatment of both classes during modeling.</li>\n",
    "  <li><b>Early Warning Signals</b>: Identifying customers with declining ARPU, recharges, and data usage early can enable proactive intervention strategies to prevent churn.</li>\n",
    "</ul>"
   ]
  },
  {
   "cell_type": "markdown",
   "id": "ce81b4c8-9b19-4a61-a065-6a4c6732ddd6",
   "metadata": {},
   "source": [
    "<h2>Step 7: Feature Engineering</h2>\n",
    "Next, we will perform feature engineering to create new features that could be helpful in predicting churn. For example, creating trend-based features to capture changes in customer behavior over time. We will now create trend features, which capture changes in key behaviors over time. For example, trends in data usage or recharge patterns can provide useful information for churn prediction."
   ]
  },
  {
   "cell_type": "markdown",
   "id": "3dabb8bb-86cc-4a48-886a-02f6fa688ff8",
   "metadata": {},
   "source": [
    "<h3> Step 7.1: Re-create the Cleaned Dataset </h3>\n",
    "<h3>Re-creating the Cleaned Dataset</h3>\r\n",
    "\r\n",
    "<p>We had to re-create the cleaned dataset due to a common issue in Pandas where modifying a subset of a DataFrame can lead to a <strong>chained assignment warning</strong>. This warning indicates that changes made to a view of the DataFrame may not persist as expected. To avoid this issue:</p>\r\n",
    "\r\n",
    "<ul>\r\n",
    "    <li><strong>Explicit Copy</strong>: We created an explicit copy of the filtered dataset to ensure it is independent of the original DataFrame.</li>\r\n",
    "    <li><strong>Proper Assignment with <code>.loc[]</code></strong>: We used <code>.loc[]</code> for assigning values to the new columns, which is a best practice to ensure that modifications are directly applied to the DataFrame without ambiguity.</li>\r\n",
    "</ul>\r\n",
    "\r\n",
    "<p>These steps ensure that our operations are clear, unambiguous, and will not lead to unexpected behaviors later in the analysis.</p>\r\n"
   ]
  },
  {
   "cell_type": "code",
   "execution_count": 6,
   "id": "36a81213-025e-44f8-8c85-81b461095009",
   "metadata": {},
   "outputs": [
    {
     "data": {
      "text/html": [
       "<div>\n",
       "<style scoped>\n",
       "    .dataframe tbody tr th:only-of-type {\n",
       "        vertical-align: middle;\n",
       "    }\n",
       "\n",
       "    .dataframe tbody tr th {\n",
       "        vertical-align: top;\n",
       "    }\n",
       "\n",
       "    .dataframe thead th {\n",
       "        text-align: right;\n",
       "    }\n",
       "</style>\n",
       "<table border=\"1\" class=\"dataframe\">\n",
       "  <thead>\n",
       "    <tr style=\"text-align: right;\">\n",
       "      <th></th>\n",
       "      <th>mobile_number</th>\n",
       "      <th>circle_id</th>\n",
       "      <th>loc_og_t2o_mou</th>\n",
       "      <th>std_og_t2o_mou</th>\n",
       "      <th>loc_ic_t2o_mou</th>\n",
       "      <th>last_date_of_month_6</th>\n",
       "      <th>last_date_of_month_7</th>\n",
       "      <th>last_date_of_month_8</th>\n",
       "      <th>arpu_6</th>\n",
       "      <th>arpu_7</th>\n",
       "      <th>...</th>\n",
       "      <th>fb_user_6</th>\n",
       "      <th>fb_user_7</th>\n",
       "      <th>fb_user_8</th>\n",
       "      <th>aon</th>\n",
       "      <th>aug_vbc_3g</th>\n",
       "      <th>jul_vbc_3g</th>\n",
       "      <th>jun_vbc_3g</th>\n",
       "      <th>sep_vbc_3g</th>\n",
       "      <th>avg_rech_amt_6_7</th>\n",
       "      <th>churn</th>\n",
       "    </tr>\n",
       "  </thead>\n",
       "  <tbody>\n",
       "    <tr>\n",
       "      <th>7</th>\n",
       "      <td>7000701601</td>\n",
       "      <td>109</td>\n",
       "      <td>0.0</td>\n",
       "      <td>0.0</td>\n",
       "      <td>0.0</td>\n",
       "      <td>6/30/2014</td>\n",
       "      <td>7/31/2014</td>\n",
       "      <td>8/31/2014</td>\n",
       "      <td>1069.180</td>\n",
       "      <td>1349.850</td>\n",
       "      <td>...</td>\n",
       "      <td>NaN</td>\n",
       "      <td>NaN</td>\n",
       "      <td>NaN</td>\n",
       "      <td>802</td>\n",
       "      <td>57.74</td>\n",
       "      <td>19.38</td>\n",
       "      <td>18.74</td>\n",
       "      <td>0.0</td>\n",
       "      <td>1185.0</td>\n",
       "      <td>1</td>\n",
       "    </tr>\n",
       "    <tr>\n",
       "      <th>8</th>\n",
       "      <td>7001524846</td>\n",
       "      <td>109</td>\n",
       "      <td>0.0</td>\n",
       "      <td>0.0</td>\n",
       "      <td>0.0</td>\n",
       "      <td>6/30/2014</td>\n",
       "      <td>7/31/2014</td>\n",
       "      <td>8/31/2014</td>\n",
       "      <td>378.721</td>\n",
       "      <td>492.223</td>\n",
       "      <td>...</td>\n",
       "      <td>NaN</td>\n",
       "      <td>1.0</td>\n",
       "      <td>1.0</td>\n",
       "      <td>315</td>\n",
       "      <td>21.03</td>\n",
       "      <td>910.65</td>\n",
       "      <td>122.16</td>\n",
       "      <td>0.0</td>\n",
       "      <td>519.0</td>\n",
       "      <td>0</td>\n",
       "    </tr>\n",
       "    <tr>\n",
       "      <th>13</th>\n",
       "      <td>7002191713</td>\n",
       "      <td>109</td>\n",
       "      <td>0.0</td>\n",
       "      <td>0.0</td>\n",
       "      <td>0.0</td>\n",
       "      <td>6/30/2014</td>\n",
       "      <td>7/31/2014</td>\n",
       "      <td>8/31/2014</td>\n",
       "      <td>492.846</td>\n",
       "      <td>205.671</td>\n",
       "      <td>...</td>\n",
       "      <td>NaN</td>\n",
       "      <td>NaN</td>\n",
       "      <td>1.0</td>\n",
       "      <td>2607</td>\n",
       "      <td>0.00</td>\n",
       "      <td>0.00</td>\n",
       "      <td>0.00</td>\n",
       "      <td>0.0</td>\n",
       "      <td>380.0</td>\n",
       "      <td>0</td>\n",
       "    </tr>\n",
       "    <tr>\n",
       "      <th>16</th>\n",
       "      <td>7000875565</td>\n",
       "      <td>109</td>\n",
       "      <td>0.0</td>\n",
       "      <td>0.0</td>\n",
       "      <td>0.0</td>\n",
       "      <td>6/30/2014</td>\n",
       "      <td>7/31/2014</td>\n",
       "      <td>8/31/2014</td>\n",
       "      <td>430.975</td>\n",
       "      <td>299.869</td>\n",
       "      <td>...</td>\n",
       "      <td>NaN</td>\n",
       "      <td>NaN</td>\n",
       "      <td>NaN</td>\n",
       "      <td>511</td>\n",
       "      <td>0.00</td>\n",
       "      <td>2.45</td>\n",
       "      <td>21.89</td>\n",
       "      <td>0.0</td>\n",
       "      <td>459.0</td>\n",
       "      <td>0</td>\n",
       "    </tr>\n",
       "    <tr>\n",
       "      <th>17</th>\n",
       "      <td>7000187447</td>\n",
       "      <td>109</td>\n",
       "      <td>0.0</td>\n",
       "      <td>0.0</td>\n",
       "      <td>0.0</td>\n",
       "      <td>6/30/2014</td>\n",
       "      <td>7/31/2014</td>\n",
       "      <td>8/31/2014</td>\n",
       "      <td>690.008</td>\n",
       "      <td>18.980</td>\n",
       "      <td>...</td>\n",
       "      <td>NaN</td>\n",
       "      <td>NaN</td>\n",
       "      <td>NaN</td>\n",
       "      <td>667</td>\n",
       "      <td>0.00</td>\n",
       "      <td>0.00</td>\n",
       "      <td>0.00</td>\n",
       "      <td>0.0</td>\n",
       "      <td>408.0</td>\n",
       "      <td>0</td>\n",
       "    </tr>\n",
       "  </tbody>\n",
       "</table>\n",
       "<p>5 rows × 174 columns</p>\n",
       "</div>"
      ],
      "text/plain": [
       "    mobile_number  circle_id  loc_og_t2o_mou  std_og_t2o_mou  loc_ic_t2o_mou  \\\n",
       "7      7000701601        109             0.0             0.0             0.0   \n",
       "8      7001524846        109             0.0             0.0             0.0   \n",
       "13     7002191713        109             0.0             0.0             0.0   \n",
       "16     7000875565        109             0.0             0.0             0.0   \n",
       "17     7000187447        109             0.0             0.0             0.0   \n",
       "\n",
       "   last_date_of_month_6 last_date_of_month_7 last_date_of_month_8    arpu_6  \\\n",
       "7             6/30/2014            7/31/2014            8/31/2014  1069.180   \n",
       "8             6/30/2014            7/31/2014            8/31/2014   378.721   \n",
       "13            6/30/2014            7/31/2014            8/31/2014   492.846   \n",
       "16            6/30/2014            7/31/2014            8/31/2014   430.975   \n",
       "17            6/30/2014            7/31/2014            8/31/2014   690.008   \n",
       "\n",
       "      arpu_7  ...  fb_user_6  fb_user_7  fb_user_8   aon  aug_vbc_3g  \\\n",
       "7   1349.850  ...        NaN        NaN        NaN   802       57.74   \n",
       "8    492.223  ...        NaN        1.0        1.0   315       21.03   \n",
       "13   205.671  ...        NaN        NaN        1.0  2607        0.00   \n",
       "16   299.869  ...        NaN        NaN        NaN   511        0.00   \n",
       "17    18.980  ...        NaN        NaN        NaN   667        0.00   \n",
       "\n",
       "    jul_vbc_3g  jun_vbc_3g  sep_vbc_3g  avg_rech_amt_6_7  churn  \n",
       "7        19.38       18.74         0.0            1185.0      1  \n",
       "8       910.65      122.16         0.0             519.0      0  \n",
       "13        0.00        0.00         0.0             380.0      0  \n",
       "16        2.45       21.89         0.0             459.0      0  \n",
       "17        0.00        0.00         0.0             408.0      0  \n",
       "\n",
       "[5 rows x 174 columns]"
      ]
     },
     "execution_count": 6,
     "metadata": {},
     "output_type": "execute_result"
    }
   ],
   "source": [
    "# Re-importing pandas\n",
    "import pandas as pd\n",
    "\n",
    "# Load the dataset again\n",
    "data_path = 'telecom_churn_data.csv'  # Adjust the path if necessary\n",
    "churn_data = pd.read_csv(data_path)\n",
    "\n",
    "# Calculate the average recharge amount for the first two months (June and July)\n",
    "churn_data['avg_rech_amt_6_7'] = (churn_data['total_rech_amt_6'] + churn_data['total_rech_amt_7']) / 2\n",
    "\n",
    "# Calculate the 70th percentile of the average recharge amount in the first two months\n",
    "percentile_70_value = churn_data['avg_rech_amt_6_7'].quantile(0.70)\n",
    "\n",
    "# Filter high-value customers who have recharged with an amount >= 70th percentile value\n",
    "# Explicitly creating a copy to avoid chained assignment warning\n",
    "high_value_customers = churn_data[churn_data['avg_rech_amt_6_7'] >= percentile_70_value].copy()\n",
    "\n",
    "# Tagging churned customers based on the churn phase (September)\n",
    "# Churn criteria: No incoming calls, no outgoing calls, and no mobile internet usage in month 9\n",
    "# Using .loc to properly assign values\n",
    "high_value_customers.loc[:, 'churn'] = high_value_customers.apply(\n",
    "    lambda row: 1 if (\n",
    "        row['total_ic_mou_9'] == 0 and\n",
    "        row['total_og_mou_9'] == 0 and\n",
    "        row['vol_2g_mb_9'] == 0 and\n",
    "        row['vol_3g_mb_9'] == 0\n",
    "    ) else 0, axis=1\n",
    ")\n",
    "\n",
    "# Remove all the attributes corresponding to the churn phase (all attributes with '_9')\n",
    "columns_to_remove = [col for col in high_value_customers.columns if '_9' in col]\n",
    "high_value_customers_cleaned = high_value_customers.drop(columns=columns_to_remove)\n",
    "\n",
    "# Displaying a preview of the cleaned dataset\n",
    "high_value_customers_cleaned.head()"
   ]
  },
  {
   "cell_type": "markdown",
   "id": "d3419598-c705-4b5c-b17e-a3e5b8d124dc",
   "metadata": {},
   "source": [
    "<h3>Step 7.2: Markdown Cell: Finalizing Feature Engineering</h3>\n",
    "<h3>Finalizing Feature Engineering</h3>\r\n",
    "<p>In this step, we will finalize our feature set for modeling. This includes creating additional trend-based features that may help predict churn more accurately, and dropping irrelevant columns such as customer identifiers, to ensure our dataset is optimized for building predictive models.</p\r\n"
   ]
  },
  {
   "cell_type": "code",
   "execution_count": 12,
   "id": "5ec4d462-4943-447d-8933-caabe3876ab9",
   "metadata": {},
   "outputs": [
    {
     "data": {
      "text/html": [
       "<div>\n",
       "<style scoped>\n",
       "    .dataframe tbody tr th:only-of-type {\n",
       "        vertical-align: middle;\n",
       "    }\n",
       "\n",
       "    .dataframe tbody tr th {\n",
       "        vertical-align: top;\n",
       "    }\n",
       "\n",
       "    .dataframe thead th {\n",
       "        text-align: right;\n",
       "    }\n",
       "</style>\n",
       "<table border=\"1\" class=\"dataframe\">\n",
       "  <thead>\n",
       "    <tr style=\"text-align: right;\">\n",
       "      <th></th>\n",
       "      <th>circle_id</th>\n",
       "      <th>loc_og_t2o_mou</th>\n",
       "      <th>std_og_t2o_mou</th>\n",
       "      <th>loc_ic_t2o_mou</th>\n",
       "      <th>last_date_of_month_6</th>\n",
       "      <th>last_date_of_month_7</th>\n",
       "      <th>last_date_of_month_8</th>\n",
       "      <th>arpu_6</th>\n",
       "      <th>arpu_7</th>\n",
       "      <th>arpu_8</th>\n",
       "      <th>...</th>\n",
       "      <th>jul_vbc_3g</th>\n",
       "      <th>jun_vbc_3g</th>\n",
       "      <th>sep_vbc_3g</th>\n",
       "      <th>avg_rech_amt_6_7</th>\n",
       "      <th>churn</th>\n",
       "      <th>arpu_trend_6_7</th>\n",
       "      <th>total_rech_amt_trend_6_7</th>\n",
       "      <th>vol_3g_trend_6_7</th>\n",
       "      <th>total_rech_amt_trend_7_8</th>\n",
       "      <th>vol_3g_trend_7_8</th>\n",
       "    </tr>\n",
       "  </thead>\n",
       "  <tbody>\n",
       "    <tr>\n",
       "      <th>7</th>\n",
       "      <td>109</td>\n",
       "      <td>0.0</td>\n",
       "      <td>0.0</td>\n",
       "      <td>0.0</td>\n",
       "      <td>6/30/2014</td>\n",
       "      <td>7/31/2014</td>\n",
       "      <td>8/31/2014</td>\n",
       "      <td>1069.180</td>\n",
       "      <td>1349.850</td>\n",
       "      <td>3171.480</td>\n",
       "      <td>...</td>\n",
       "      <td>19.38</td>\n",
       "      <td>18.74</td>\n",
       "      <td>0.0</td>\n",
       "      <td>1185.0</td>\n",
       "      <td>1</td>\n",
       "      <td>280.670</td>\n",
       "      <td>-790</td>\n",
       "      <td>0.00</td>\n",
       "      <td>2848</td>\n",
       "      <td>0.00</td>\n",
       "    </tr>\n",
       "    <tr>\n",
       "      <th>8</th>\n",
       "      <td>109</td>\n",
       "      <td>0.0</td>\n",
       "      <td>0.0</td>\n",
       "      <td>0.0</td>\n",
       "      <td>6/30/2014</td>\n",
       "      <td>7/31/2014</td>\n",
       "      <td>8/31/2014</td>\n",
       "      <td>378.721</td>\n",
       "      <td>492.223</td>\n",
       "      <td>137.362</td>\n",
       "      <td>...</td>\n",
       "      <td>910.65</td>\n",
       "      <td>122.16</td>\n",
       "      <td>0.0</td>\n",
       "      <td>519.0</td>\n",
       "      <td>0</td>\n",
       "      <td>113.502</td>\n",
       "      <td>164</td>\n",
       "      <td>750.95</td>\n",
       "      <td>-481</td>\n",
       "      <td>-739.01</td>\n",
       "    </tr>\n",
       "    <tr>\n",
       "      <th>13</th>\n",
       "      <td>109</td>\n",
       "      <td>0.0</td>\n",
       "      <td>0.0</td>\n",
       "      <td>0.0</td>\n",
       "      <td>6/30/2014</td>\n",
       "      <td>7/31/2014</td>\n",
       "      <td>8/31/2014</td>\n",
       "      <td>492.846</td>\n",
       "      <td>205.671</td>\n",
       "      <td>593.260</td>\n",
       "      <td>...</td>\n",
       "      <td>0.00</td>\n",
       "      <td>0.00</td>\n",
       "      <td>0.0</td>\n",
       "      <td>380.0</td>\n",
       "      <td>0</td>\n",
       "      <td>-287.175</td>\n",
       "      <td>-254</td>\n",
       "      <td>0.00</td>\n",
       "      <td>464</td>\n",
       "      <td>0.00</td>\n",
       "    </tr>\n",
       "    <tr>\n",
       "      <th>16</th>\n",
       "      <td>109</td>\n",
       "      <td>0.0</td>\n",
       "      <td>0.0</td>\n",
       "      <td>0.0</td>\n",
       "      <td>6/30/2014</td>\n",
       "      <td>7/31/2014</td>\n",
       "      <td>8/31/2014</td>\n",
       "      <td>430.975</td>\n",
       "      <td>299.869</td>\n",
       "      <td>187.894</td>\n",
       "      <td>...</td>\n",
       "      <td>2.45</td>\n",
       "      <td>21.89</td>\n",
       "      <td>0.0</td>\n",
       "      <td>459.0</td>\n",
       "      <td>0</td>\n",
       "      <td>-131.106</td>\n",
       "      <td>-222</td>\n",
       "      <td>0.00</td>\n",
       "      <td>-188</td>\n",
       "      <td>0.00</td>\n",
       "    </tr>\n",
       "    <tr>\n",
       "      <th>17</th>\n",
       "      <td>109</td>\n",
       "      <td>0.0</td>\n",
       "      <td>0.0</td>\n",
       "      <td>0.0</td>\n",
       "      <td>6/30/2014</td>\n",
       "      <td>7/31/2014</td>\n",
       "      <td>8/31/2014</td>\n",
       "      <td>690.008</td>\n",
       "      <td>18.980</td>\n",
       "      <td>25.499</td>\n",
       "      <td>...</td>\n",
       "      <td>0.00</td>\n",
       "      <td>0.00</td>\n",
       "      <td>0.0</td>\n",
       "      <td>408.0</td>\n",
       "      <td>0</td>\n",
       "      <td>-671.028</td>\n",
       "      <td>-816</td>\n",
       "      <td>0.00</td>\n",
       "      <td>30</td>\n",
       "      <td>0.00</td>\n",
       "    </tr>\n",
       "  </tbody>\n",
       "</table>\n",
       "<p>5 rows × 178 columns</p>\n",
       "</div>"
      ],
      "text/plain": [
       "    circle_id  loc_og_t2o_mou  std_og_t2o_mou  loc_ic_t2o_mou  \\\n",
       "7         109             0.0             0.0             0.0   \n",
       "8         109             0.0             0.0             0.0   \n",
       "13        109             0.0             0.0             0.0   \n",
       "16        109             0.0             0.0             0.0   \n",
       "17        109             0.0             0.0             0.0   \n",
       "\n",
       "   last_date_of_month_6 last_date_of_month_7 last_date_of_month_8    arpu_6  \\\n",
       "7             6/30/2014            7/31/2014            8/31/2014  1069.180   \n",
       "8             6/30/2014            7/31/2014            8/31/2014   378.721   \n",
       "13            6/30/2014            7/31/2014            8/31/2014   492.846   \n",
       "16            6/30/2014            7/31/2014            8/31/2014   430.975   \n",
       "17            6/30/2014            7/31/2014            8/31/2014   690.008   \n",
       "\n",
       "      arpu_7    arpu_8  ...  jul_vbc_3g  jun_vbc_3g  sep_vbc_3g  \\\n",
       "7   1349.850  3171.480  ...       19.38       18.74         0.0   \n",
       "8    492.223   137.362  ...      910.65      122.16         0.0   \n",
       "13   205.671   593.260  ...        0.00        0.00         0.0   \n",
       "16   299.869   187.894  ...        2.45       21.89         0.0   \n",
       "17    18.980    25.499  ...        0.00        0.00         0.0   \n",
       "\n",
       "    avg_rech_amt_6_7  churn  arpu_trend_6_7  total_rech_amt_trend_6_7  \\\n",
       "7             1185.0      1         280.670                      -790   \n",
       "8              519.0      0         113.502                       164   \n",
       "13             380.0      0        -287.175                      -254   \n",
       "16             459.0      0        -131.106                      -222   \n",
       "17             408.0      0        -671.028                      -816   \n",
       "\n",
       "    vol_3g_trend_6_7  total_rech_amt_trend_7_8  vol_3g_trend_7_8  \n",
       "7               0.00                      2848              0.00  \n",
       "8             750.95                      -481           -739.01  \n",
       "13              0.00                       464              0.00  \n",
       "16              0.00                      -188              0.00  \n",
       "17              0.00                        30              0.00  \n",
       "\n",
       "[5 rows x 178 columns]"
      ]
     },
     "execution_count": 12,
     "metadata": {},
     "output_type": "execute_result"
    }
   ],
   "source": [
    "# Creating additional trend-based features to capture changes in customer behavior over time\n",
    "\n",
    "# Trend for ARPU (Average Revenue Per User) from June to July\n",
    "high_value_customers_cleaned['arpu_trend_6_7'] = high_value_customers_cleaned['arpu_7'] - high_value_customers_cleaned['arpu_6']\n",
    "\n",
    "# Trend for total recharge amount between June and July\n",
    "high_value_customers_cleaned['total_rech_amt_trend_6_7'] = high_value_customers_cleaned['total_rech_amt_7'] - high_value_customers_cleaned['total_rech_amt_6']\n",
    "\n",
    "# Trend for 3G data usage between June and July\n",
    "high_value_customers_cleaned['vol_3g_trend_6_7'] = high_value_customers_cleaned['vol_3g_mb_7'] - high_value_customers_cleaned['vol_3g_mb_6']\n",
    "\n",
    "# Trend for total recharge amount between July and August\n",
    "high_value_customers_cleaned['total_rech_amt_trend_7_8'] = high_value_customers_cleaned['total_rech_amt_8'] - high_value_customers_cleaned['total_rech_amt_7']\n",
    "\n",
    "# Trend for 3G data usage between July and August\n",
    "high_value_customers_cleaned['vol_3g_trend_7_8'] = high_value_customers_cleaned['vol_3g_mb_8'] - high_value_customers_cleaned['vol_3g_mb_7']\n",
    "\n",
    "# Drop irrelevant columns such as customer identifiers, assuming 'mobile_number' is an identifier we no longer need\n",
    "# This will ensure that no identifiable information is used in the modeling process\n",
    "high_value_customers_cleaned = high_value_customers_cleaned.drop(columns=['mobile_number'], errors='ignore')\n",
    "\n",
    "# Displaying a preview of the final feature set\n",
    "high_value_customers_cleaned.head()"
   ]
  },
  {
   "cell_type": "markdown",
   "id": "c98a489c-d075-484f-8c88-ab9ba6b88911",
   "metadata": {},
   "source": [
    "<h2>Step 8: Splitting Data for Modeling</h2>\n",
    "<h3>Step 8.1: Splitting Data for Training and Testing</h3>\r\n",
    "<p>We will now split our dataset into training and test sets to prepare for model building. The training set will be used to build our models, while the test set will be used to evaluate how well the models perform on unseen data. We will use an 80-20 split ratio and ensure the target class distribution is maintained by using stratified sampling.</p\r\n"
   ]
  },
  {
   "cell_type": "markdown",
   "id": "04fef54b-b9de-4080-a5d0-b018a740aa7d",
   "metadata": {},
   "source": [
    "<h3>Step 8.2 Python Code Cell: Data Splitting"
   ]
  },
  {
   "cell_type": "code",
   "execution_count": 19,
   "id": "45c354ce-1aea-4c34-bda5-3cda5e7e0d31",
   "metadata": {},
   "outputs": [
    {
     "name": "stdout",
     "output_type": "stream",
     "text": [
      "Training set size: 24008 rows\n",
      "Test set size: 6003 rows\n"
     ]
    }
   ],
   "source": [
    "from sklearn.model_selection import train_test_split\n",
    "\n",
    "# Define features (X) and target (y)\n",
    "X = high_value_customers_cleaned.drop(columns=['churn'])\n",
    "y = high_value_customers_cleaned['churn']\n",
    "\n",
    "# Splitting the dataset into training and testing sets (80% training, 20% testing)\n",
    "# Using stratified sampling to ensure similar class distribution in both training and test sets\n",
    "X_train, X_test, y_train, y_test = train_test_split(X, y, test_size=0.2, random_state=42, stratify=y)\n",
    "\n",
    "# Displaying the size of the training and test sets\n",
    "print(f\"Training set size: {X_train.shape[0]} rows\")\n",
    "print(f\"Test set size: {X_test.shape[0]} rows\")"
   ]
  },
  {
   "cell_type": "markdown",
   "id": "d5f93a50-ce6c-41f5-84c8-6c082995e196",
   "metadata": {},
   "source": [
    "<h2>Step 9: Building and Evaluating Logistic Regression Model</h2>"
   ]
  },
  {
   "cell_type": "markdown",
   "id": "2b2e9237-d2b1-4915-9b49-acbb8cf0434a",
   "metadata": {},
   "source": [
    "<h3>Step 9.1 Markdown Cell: Logistic Regression Model Overview</h3>\n",
    "<h3>Building a Logistic Regression Model</h3>\r\n",
    "<p>We will build a Logistic Regression model for predicting churn. Logistic Regression is useful for interpretability, allowing us to identify the key features contributing to customer churn. Since our dataset is imbalanced, we will address this using the <code>class_weight='balanced'</code> parameter, which adjusts the weights of classes inversely proportional to their frequencies, thus making the model more sensitive to the minority class (churned customers).</p>\r\n"
   ]
  },
  {
   "cell_type": "markdown",
   "id": "57017cca-480f-48dd-b0c4-1853b2bcd94a",
   "metadata": {},
   "source": [
    "<h3>Step 9.2 Python Code Cell: Building the Logistic Regression Model</h3>"
   ]
  },
  {
   "cell_type": "markdown",
   "id": "e2c439e4-952e-4ce3-b328-9c03cae354dd",
   "metadata": {
    "jp-MarkdownHeadingCollapsed": true
   },
   "source": [
    "<h4>Step 9.2.1: Identify Non-Numeric Columns</h4>\n",
    "\n",
    "<p>We will first identify any non-numeric columns in our dataset that could be causing issues during model training. These columns will either be converted to a suitable numeric format or dropped if they do not add value to the predictive model.</p>\r\n"
   ]
  },
  {
   "cell_type": "code",
   "execution_count": 30,
   "id": "f7aa0366-9154-474b-96aa-fced0bc624b4",
   "metadata": {},
   "outputs": [
    {
     "name": "stdout",
     "output_type": "stream",
     "text": [
      "Non-Numeric Columns:\n",
      "Index(['last_date_of_month_6', 'last_date_of_month_7', 'last_date_of_month_8',\n",
      "       'date_of_last_rech_6', 'date_of_last_rech_7', 'date_of_last_rech_8',\n",
      "       'date_of_last_rech_data_6', 'date_of_last_rech_data_7',\n",
      "       'date_of_last_rech_data_8'],\n",
      "      dtype='object')\n"
     ]
    }
   ],
   "source": [
    "# Identifying non-numeric columns in the cleaned dataset\n",
    "non_numeric_columns = high_value_customers_cleaned.select_dtypes(include=['object']).columns\n",
    "\n",
    "# Displaying non-numeric columns\n",
    "print(\"Non-Numeric Columns:\")\n",
    "print(non_numeric_columns)\n"
   ]
  },
  {
   "cell_type": "markdown",
   "id": "e5842293-2c5b-4caf-b9f1-1af5779f6690",
   "metadata": {
    "jp-MarkdownHeadingCollapsed": true
   },
   "source": [
    "<h4>Step 9.2.2: Drop Non-Numeric Columns if Irrelevant</h4>\r\n",
    "<p>We will drop non-numeric columns that are not useful for prediction, such as date columns or identifiers. This ensures that our feature set consists only of numeric values, which are compatible with the Logistic Regression model.</p>\r\n"
   ]
  },
  {
   "cell_type": "code",
   "execution_count": 35,
   "id": "3ca75986-202b-4c86-9cfa-888d41b194e1",
   "metadata": {},
   "outputs": [
    {
     "data": {
      "text/html": [
       "<div>\n",
       "<style scoped>\n",
       "    .dataframe tbody tr th:only-of-type {\n",
       "        vertical-align: middle;\n",
       "    }\n",
       "\n",
       "    .dataframe tbody tr th {\n",
       "        vertical-align: top;\n",
       "    }\n",
       "\n",
       "    .dataframe thead th {\n",
       "        text-align: right;\n",
       "    }\n",
       "</style>\n",
       "<table border=\"1\" class=\"dataframe\">\n",
       "  <thead>\n",
       "    <tr style=\"text-align: right;\">\n",
       "      <th></th>\n",
       "      <th>circle_id</th>\n",
       "      <th>loc_og_t2o_mou</th>\n",
       "      <th>std_og_t2o_mou</th>\n",
       "      <th>loc_ic_t2o_mou</th>\n",
       "      <th>arpu_6</th>\n",
       "      <th>arpu_7</th>\n",
       "      <th>arpu_8</th>\n",
       "      <th>onnet_mou_6</th>\n",
       "      <th>onnet_mou_7</th>\n",
       "      <th>onnet_mou_8</th>\n",
       "      <th>...</th>\n",
       "      <th>jul_vbc_3g</th>\n",
       "      <th>jun_vbc_3g</th>\n",
       "      <th>sep_vbc_3g</th>\n",
       "      <th>avg_rech_amt_6_7</th>\n",
       "      <th>churn</th>\n",
       "      <th>arpu_trend_6_7</th>\n",
       "      <th>total_rech_amt_trend_6_7</th>\n",
       "      <th>vol_3g_trend_6_7</th>\n",
       "      <th>total_rech_amt_trend_7_8</th>\n",
       "      <th>vol_3g_trend_7_8</th>\n",
       "    </tr>\n",
       "  </thead>\n",
       "  <tbody>\n",
       "    <tr>\n",
       "      <th>7</th>\n",
       "      <td>109</td>\n",
       "      <td>0.0</td>\n",
       "      <td>0.0</td>\n",
       "      <td>0.0</td>\n",
       "      <td>1069.180</td>\n",
       "      <td>1349.850</td>\n",
       "      <td>3171.480</td>\n",
       "      <td>57.84</td>\n",
       "      <td>54.68</td>\n",
       "      <td>52.29</td>\n",
       "      <td>...</td>\n",
       "      <td>19.38</td>\n",
       "      <td>18.74</td>\n",
       "      <td>0.0</td>\n",
       "      <td>1185.0</td>\n",
       "      <td>1</td>\n",
       "      <td>280.670</td>\n",
       "      <td>-790</td>\n",
       "      <td>0.00</td>\n",
       "      <td>2848</td>\n",
       "      <td>0.00</td>\n",
       "    </tr>\n",
       "    <tr>\n",
       "      <th>8</th>\n",
       "      <td>109</td>\n",
       "      <td>0.0</td>\n",
       "      <td>0.0</td>\n",
       "      <td>0.0</td>\n",
       "      <td>378.721</td>\n",
       "      <td>492.223</td>\n",
       "      <td>137.362</td>\n",
       "      <td>413.69</td>\n",
       "      <td>351.03</td>\n",
       "      <td>35.08</td>\n",
       "      <td>...</td>\n",
       "      <td>910.65</td>\n",
       "      <td>122.16</td>\n",
       "      <td>0.0</td>\n",
       "      <td>519.0</td>\n",
       "      <td>0</td>\n",
       "      <td>113.502</td>\n",
       "      <td>164</td>\n",
       "      <td>750.95</td>\n",
       "      <td>-481</td>\n",
       "      <td>-739.01</td>\n",
       "    </tr>\n",
       "    <tr>\n",
       "      <th>13</th>\n",
       "      <td>109</td>\n",
       "      <td>0.0</td>\n",
       "      <td>0.0</td>\n",
       "      <td>0.0</td>\n",
       "      <td>492.846</td>\n",
       "      <td>205.671</td>\n",
       "      <td>593.260</td>\n",
       "      <td>501.76</td>\n",
       "      <td>108.39</td>\n",
       "      <td>534.24</td>\n",
       "      <td>...</td>\n",
       "      <td>0.00</td>\n",
       "      <td>0.00</td>\n",
       "      <td>0.0</td>\n",
       "      <td>380.0</td>\n",
       "      <td>0</td>\n",
       "      <td>-287.175</td>\n",
       "      <td>-254</td>\n",
       "      <td>0.00</td>\n",
       "      <td>464</td>\n",
       "      <td>0.00</td>\n",
       "    </tr>\n",
       "    <tr>\n",
       "      <th>16</th>\n",
       "      <td>109</td>\n",
       "      <td>0.0</td>\n",
       "      <td>0.0</td>\n",
       "      <td>0.0</td>\n",
       "      <td>430.975</td>\n",
       "      <td>299.869</td>\n",
       "      <td>187.894</td>\n",
       "      <td>50.51</td>\n",
       "      <td>74.01</td>\n",
       "      <td>70.61</td>\n",
       "      <td>...</td>\n",
       "      <td>2.45</td>\n",
       "      <td>21.89</td>\n",
       "      <td>0.0</td>\n",
       "      <td>459.0</td>\n",
       "      <td>0</td>\n",
       "      <td>-131.106</td>\n",
       "      <td>-222</td>\n",
       "      <td>0.00</td>\n",
       "      <td>-188</td>\n",
       "      <td>0.00</td>\n",
       "    </tr>\n",
       "    <tr>\n",
       "      <th>17</th>\n",
       "      <td>109</td>\n",
       "      <td>0.0</td>\n",
       "      <td>0.0</td>\n",
       "      <td>0.0</td>\n",
       "      <td>690.008</td>\n",
       "      <td>18.980</td>\n",
       "      <td>25.499</td>\n",
       "      <td>1185.91</td>\n",
       "      <td>9.28</td>\n",
       "      <td>7.79</td>\n",
       "      <td>...</td>\n",
       "      <td>0.00</td>\n",
       "      <td>0.00</td>\n",
       "      <td>0.0</td>\n",
       "      <td>408.0</td>\n",
       "      <td>0</td>\n",
       "      <td>-671.028</td>\n",
       "      <td>-816</td>\n",
       "      <td>0.00</td>\n",
       "      <td>30</td>\n",
       "      <td>0.00</td>\n",
       "    </tr>\n",
       "  </tbody>\n",
       "</table>\n",
       "<p>5 rows × 169 columns</p>\n",
       "</div>"
      ],
      "text/plain": [
       "    circle_id  loc_og_t2o_mou  std_og_t2o_mou  loc_ic_t2o_mou    arpu_6  \\\n",
       "7         109             0.0             0.0             0.0  1069.180   \n",
       "8         109             0.0             0.0             0.0   378.721   \n",
       "13        109             0.0             0.0             0.0   492.846   \n",
       "16        109             0.0             0.0             0.0   430.975   \n",
       "17        109             0.0             0.0             0.0   690.008   \n",
       "\n",
       "      arpu_7    arpu_8  onnet_mou_6  onnet_mou_7  onnet_mou_8  ...  \\\n",
       "7   1349.850  3171.480        57.84        54.68        52.29  ...   \n",
       "8    492.223   137.362       413.69       351.03        35.08  ...   \n",
       "13   205.671   593.260       501.76       108.39       534.24  ...   \n",
       "16   299.869   187.894        50.51        74.01        70.61  ...   \n",
       "17    18.980    25.499      1185.91         9.28         7.79  ...   \n",
       "\n",
       "    jul_vbc_3g  jun_vbc_3g  sep_vbc_3g  avg_rech_amt_6_7  churn  \\\n",
       "7        19.38       18.74         0.0            1185.0      1   \n",
       "8       910.65      122.16         0.0             519.0      0   \n",
       "13        0.00        0.00         0.0             380.0      0   \n",
       "16        2.45       21.89         0.0             459.0      0   \n",
       "17        0.00        0.00         0.0             408.0      0   \n",
       "\n",
       "    arpu_trend_6_7  total_rech_amt_trend_6_7  vol_3g_trend_6_7  \\\n",
       "7          280.670                      -790              0.00   \n",
       "8          113.502                       164            750.95   \n",
       "13        -287.175                      -254              0.00   \n",
       "16        -131.106                      -222              0.00   \n",
       "17        -671.028                      -816              0.00   \n",
       "\n",
       "    total_rech_amt_trend_7_8  vol_3g_trend_7_8  \n",
       "7                       2848              0.00  \n",
       "8                       -481           -739.01  \n",
       "13                       464              0.00  \n",
       "16                      -188              0.00  \n",
       "17                        30              0.00  \n",
       "\n",
       "[5 rows x 169 columns]"
      ]
     },
     "execution_count": 35,
     "metadata": {},
     "output_type": "execute_result"
    }
   ],
   "source": [
    "# Dropping non-numeric columns that are irrelevant for prediction\n",
    "# Assuming these non-numeric columns are date columns and do not provide useful numerical information for churn prediction\n",
    "high_value_customers_cleaned = high_value_customers_cleaned.drop(columns=non_numeric_columns)\n",
    "\n",
    "# Displaying the cleaned dataset to confirm the removal of non-numeric columns\n",
    "high_value_customers_cleaned.head()"
   ]
  },
  {
   "cell_type": "markdown",
   "id": "01263e84-1ef6-47d3-81ba-015ce07e676f",
   "metadata": {},
   "source": [
    "<h4>Step 9.2.3: Re-splitting Data and Rebuilding Logistic Regression Model</h4>\r\n",
    "<p>After dropping the non-numeric columns, we will re-split the data into training and testing sets and rebuild the Logistic Regression model to predict customer churn.</p>\r\n"
   ]
  },
  {
   "cell_type": "markdown",
   "id": "e88d94bb-9b0f-4369-ab0b-7546df4b2b2c",
   "metadata": {},
   "source": [
    "<h4>Step 9.2.4: Python Code Cell: Re-splitting Data for Modeling</h4>"
   ]
  },
  {
   "cell_type": "code",
   "execution_count": 40,
   "id": "703babb9-8d17-4632-a1fb-2bca9742cd79",
   "metadata": {},
   "outputs": [
    {
     "name": "stdout",
     "output_type": "stream",
     "text": [
      "Training set size: 24008 rows\n",
      "Test set size: 6003 rows\n"
     ]
    }
   ],
   "source": [
    "from sklearn.model_selection import train_test_split\n",
    "\n",
    "# Define features (X) and target (y) after dropping non-numeric columns\n",
    "X = high_value_customers_cleaned.drop(columns=['churn'])\n",
    "y = high_value_customers_cleaned['churn']\n",
    "\n",
    "# Splitting the dataset into training and testing sets (80% training, 20% testing)\n",
    "X_train, X_test, y_train, y_test = train_test_split(X, y, test_size=0.2, random_state=42, stratify=y)\n",
    "\n",
    "# Displaying the size of the training and test sets\n",
    "print(f\"Training set size: {X_train.shape[0]} rows\")\n",
    "print(f\"Test set size: {X_test.shape[0]} rows\")"
   ]
  },
  {
   "cell_type": "markdown",
   "id": "bfa6465a-494e-4883-a4aa-d47eaba4b113",
   "metadata": {
    "jp-MarkdownHeadingCollapsed": true
   },
   "source": [
    "<h4>Step 9.2.5: Python Code Cell: Rebuilding Logistic Regression Model</h4>"
   ]
  },
  {
   "cell_type": "markdown",
   "id": "bb4b4900-b613-4da5-9908-4ac41fbd0a1a",
   "metadata": {
    "jp-MarkdownHeadingCollapsed": true
   },
   "source": [
    "<h5>Step 9.2.5.1 Handling Remaining Missing Values</h5>\r\n",
    "<p>To proceed with the model training, we need to handle any remaining missing values in the feature set. Missing values can significantly impact model training and performance, so we will either impute them with appropriate values or drop the affected rows if necessary.</p\r\n"
   ]
  },
  {
   "cell_type": "markdown",
   "id": "dee14730-bc57-4c05-a3a8-301162ef6de6",
   "metadata": {},
   "source": [
    "<h5>Step 9.2.5.2 Python Code Cell: Inspecting Missing Values</h5>"
   ]
  },
  {
   "cell_type": "code",
   "execution_count": 53,
   "id": "3afee476-1eb6-40b9-aabd-b491fc54d2b2",
   "metadata": {},
   "outputs": [
    {
     "name": "stdout",
     "output_type": "stream",
     "text": [
      "Columns with Missing Values:\n",
      "loc_og_t2o_mou        114\n",
      "std_og_t2o_mou        114\n",
      "loc_ic_t2o_mou        114\n",
      "onnet_mou_6           316\n",
      "onnet_mou_7           303\n",
      "                    ...  \n",
      "night_pck_user_7    18349\n",
      "night_pck_user_8    18257\n",
      "fb_user_6           18614\n",
      "fb_user_7           18349\n",
      "fb_user_8           18257\n",
      "Length: 117, dtype: int64\n"
     ]
    }
   ],
   "source": [
    "# Check for any remaining missing values in the cleaned dataset\n",
    "missing_values_summary = high_value_customers_cleaned.isnull().sum()\n",
    "\n",
    "# Display columns with missing values\n",
    "missing_columns = missing_values_summary[missing_values_summary > 0]\n",
    "print(\"Columns with Missing Values:\")\n",
    "print(missing_columns)"
   ]
  },
  {
   "cell_type": "markdown",
   "id": "037af508-bea3-43e5-b692-0d6ec3204da2",
   "metadata": {},
   "source": [
    "<h5>Step 9.2.5.3 Python Code Cell: Handling Missing Values</h5>\r\n",
    "<p>We will now impute the remaining missing values to ensure our feature set is ready for modeling. For numeric columns, we will use the median, which is less sensitive to outliers compared to the mean.</p\r\n"
   ]
  },
  {
   "cell_type": "code",
   "execution_count": 61,
   "id": "f92dc0ff-4c74-4d1c-bd7f-9217b2008527",
   "metadata": {},
   "outputs": [
    {
     "name": "stdout",
     "output_type": "stream",
     "text": [
      "Missing values after imputation:\n",
      "0\n"
     ]
    }
   ],
   "source": [
    "# Impute missing values with the median for all remaining columns with missing values\n",
    "for column in missing_columns.index:\n",
    "    # Explicitly assigning the imputed values back to the column\n",
    "    high_value_customers_cleaned[column] = high_value_customers_cleaned[column].fillna(high_value_customers_cleaned[column].median())\n",
    "\n",
    "# Verifying that there are no more missing values\n",
    "print(\"Missing values after imputation:\")\n",
    "print(high_value_customers_cleaned.isnull().sum().sum())  # Should be 0 if all missing values are handled"
   ]
  },
  {
   "cell_type": "markdown",
   "id": "dda747f2-88e0-49ff-8718-da2a23038b4e",
   "metadata": {},
   "source": [
    "<h4>Step 9.2.6: Re-run Data Splitting and Logistic Regression Model</h4>\r\n",
    "<p>After handling the missing values, we will re-split the data into training and testing sets and rebuild the Logistic Regression model to predict customer churn.</p\r\n"
   ]
  },
  {
   "cell_type": "markdown",
   "id": "f27e8828-7565-4760-924b-504876e1689d",
   "metadata": {
    "jp-MarkdownHeadingCollapsed": true
   },
   "source": [
    "<h4>Step 9.2.7: Python Code Cell: Re-splitting Data for Modeling</h4>"
   ]
  },
  {
   "cell_type": "code",
   "execution_count": 66,
   "id": "db987ce8-1a8a-4b10-b34e-393abee5a7c2",
   "metadata": {},
   "outputs": [
    {
     "name": "stdout",
     "output_type": "stream",
     "text": [
      "Training set size: 24008 rows\n",
      "Test set size: 6003 rows\n"
     ]
    }
   ],
   "source": [
    "from sklearn.model_selection import train_test_split\n",
    "\n",
    "# Define features (X) and target (y) after imputing missing values\n",
    "X = high_value_customers_cleaned.drop(columns=['churn'])\n",
    "y = high_value_customers_cleaned['churn']\n",
    "\n",
    "# Splitting the dataset into training and testing sets (80% training, 20% testing)\n",
    "X_train, X_test, y_train, y_test = train_test_split(X, y, test_size=0.2, random_state=42, stratify=y)\n",
    "\n",
    "# Displaying the size of the training and test sets\n",
    "print(f\"Training set size: {X_train.shape[0]} rows\")\n",
    "print(f\"Test set size: {X_test.shape[0]} rows\")\n"
   ]
  },
  {
   "cell_type": "markdown",
   "id": "f7f0be50-195d-4aba-bf4c-65d3111e34b8",
   "metadata": {
    "jp-MarkdownHeadingCollapsed": true
   },
   "source": [
    "<h4>Step 9.2.8: Scaling the Features</h4>\r\n",
    "<p>To help the Logistic Regression model converge, we will standardize the features using <code>StandardScaler</code>. Standardizing the data transforms each feature to have a mean of 0 and a standard deviation of 1, which helps the model find the optimal solution faster and improves performance.</p\r\n"
   ]
  },
  {
   "cell_type": "code",
   "execution_count": 77,
   "id": "d7135022-b7ff-4388-8384-10e4a3f23dfb",
   "metadata": {},
   "outputs": [],
   "source": [
    "from sklearn.preprocessing import StandardScaler\n",
    "\n",
    "# Creating an instance of StandardScaler\n",
    "scaler = StandardScaler()\n",
    "\n",
    "# Fit the scaler on training data and transform it\n",
    "X_train_scaled = scaler.fit_transform(X_train)\n",
    "\n",
    "# Transform the test data with the same scaler\n",
    "X_test_scaled = scaler.transform(X_test)"
   ]
  },
  {
   "cell_type": "markdown",
   "id": "eded10e3-f220-4027-af56-80d8c69a50f9",
   "metadata": {},
   "source": [
    "<h4>Step 9.2.9: Rebuilding Logistic Regression Model with Scaled Features</h4>"
   ]
  },
  {
   "cell_type": "code",
   "execution_count": 83,
   "id": "6bbdb737-0efa-4b50-888e-e4dc2db7e590",
   "metadata": {},
   "outputs": [
    {
     "name": "stdout",
     "output_type": "stream",
     "text": [
      "Logistic Regression Classification Report:\n",
      "              precision    recall  f1-score   support\n",
      "\n",
      "           0       0.98      0.84      0.90      5484\n",
      "           1       0.33      0.81      0.46       519\n",
      "\n",
      "    accuracy                           0.84      6003\n",
      "   macro avg       0.65      0.83      0.68      6003\n",
      "weighted avg       0.92      0.84      0.87      6003\n",
      "\n",
      "Confusion Matrix:\n",
      "[[4609  875]\n",
      " [  97  422]]\n",
      "Accuracy Score: 0.8381\n"
     ]
    }
   ],
   "source": [
    "# Rebuilding the Logistic Regression Model with scaled features\n",
    "log_reg = LogisticRegression(max_iter=2000, random_state=42, class_weight='balanced')  # Increased max_iter to help with convergence\n",
    "log_reg.fit(X_train_scaled, y_train)\n",
    "\n",
    "# Predicting on the scaled test set\n",
    "y_pred_log = log_reg.predict(X_test_scaled)\n",
    "\n",
    "# Evaluating the Logistic Regression Model\n",
    "print(\"Logistic Regression Classification Report:\")\n",
    "print(classification_report(y_test, y_pred_log))\n",
    "\n",
    "# Display confusion matrix for additional insights\n",
    "print(\"Confusion Matrix:\")\n",
    "print(confusion_matrix(y_test, y_pred_log))\n",
    "\n",
    "# Accuracy Score for overall performance understanding\n",
    "print(f\"Accuracy Score: {accuracy_score(y_test, y_pred_log):.4f}\")"
   ]
  },
  {
   "cell_type": "markdown",
   "id": "9de83eef-f82d-4180-8525-1ae4dec57938",
   "metadata": {},
   "source": [
    "<h2>Step 10: Feature Importance Analysis</h2>\n",
    "<h3>Step 10.1 Markdown Cell: Feature Importance Analysis Overview</h3>\r\n",
    "<p>In this step, we will analyze the importance of features using the coefficients from the Logistic Regression model. Since Logistic Regression is a linear model, each feature is associated with a coefficient that represents the relationship between the feature and the likelihood of churn. A positive coefficient indicates an increase in the probability of churn, while a negative coefficient indicates a decrease in the probability of churn.</p\r\n"
   ]
  },
  {
   "cell_type": "markdown",
   "id": "a79d3644-d682-4d93-94ed-9544c7c38b55",
   "metadata": {},
   "source": [
    "<h3>Step 10.2 Python Code Cell: Extracting Feature Importance</h3>"
   ]
  },
  {
   "cell_type": "code",
   "execution_count": 92,
   "id": "6d52a4f1-be78-4012-8e2d-5e6dff37e5f6",
   "metadata": {},
   "outputs": [
    {
     "name": "stdout",
     "output_type": "stream",
     "text": [
      "Top 10 Features Contributing to Churn:\n",
      "              Feature  Coefficient  Abs_Coefficient\n",
      "90     total_ic_mou_8    -4.362486         4.362486\n",
      "60     total_og_mou_8    -4.105913         4.105913\n",
      "9         onnet_mou_8     2.457376         2.457376\n",
      "161        sep_vbc_3g    -1.748683         1.748683\n",
      "12       offnet_mou_8     1.669179         1.669179\n",
      "72       loc_ic_mou_8     1.641775         1.641775\n",
      "21   loc_og_t2t_mou_8    -0.931942         0.931942\n",
      "6              arpu_8     0.912752         0.912752\n",
      "87       std_ic_mou_8     0.899870         0.899870\n",
      "147       sachet_2g_8    -0.878253         0.878253\n"
     ]
    },
    {
     "data": {
      "image/png": "[encoded data removed]",
      "text/plain": [
       "<Figure size 1000x600 with 1 Axes>"
      ]
     },
     "metadata": {},
     "output_type": "display_data"
    }
   ],
   "source": [
    "# Extracting feature importance from the logistic regression model\n",
    "# Note that the coefficients are calculated for standardized features\n",
    "feature_importance = pd.DataFrame({\n",
    "    'Feature': X.columns,\n",
    "    'Coefficient': log_reg.coef_[0]\n",
    "})\n",
    "\n",
    "# Sorting features by the absolute value of their coefficients\n",
    "feature_importance['Abs_Coefficient'] = np.abs(feature_importance['Coefficient'])\n",
    "feature_importance = feature_importance.sort_values(by='Abs_Coefficient', ascending=False)\n",
    "\n",
    "# Displaying the top 10 features contributing to churn\n",
    "print(\"Top 10 Features Contributing to Churn:\")\n",
    "print(feature_importance.head(10))\n",
    "\n",
    "# Plotting the top 10 important features for visualization\n",
    "plt.figure(figsize=(10, 6))\n",
    "\n",
    "# Removing the palette argument to avoid the FutureWarning\n",
    "sns.barplot(x='Coefficient', y='Feature', data=feature_importance.head(10))\n",
    "\n",
    "plt.title('Top 10 Important Features Contributing to Churn')\n",
    "plt.xlabel('Coefficient Value')\n",
    "plt.ylabel('Feature')\n",
    "plt.tight_layout()\n",
    "plt.show()"
   ]
  },
  {
   "cell_type": "markdown",
   "id": "dbc2f739-5d02-456b-ac7a-979f8c1fff17",
   "metadata": {},
   "source": [
    "<h3>Feature Importance Analysis - Interpretation</h3>\r\n",
    "<p>From the feature importance analysis plot, we can identify the top features that have the greatest impact on customer churn, both positively and negatively. Here are some key observations:</p>\r\n",
    "\r\n",
    "<h4>Top Features Contributing to Churn:</h4>\r\n",
    "<ul>\r\n",
    "    <li><strong>total_ic_mou_8 (Total Incoming Minutes of Usage in August):</strong> The large negative coefficient for this feature indicates that higher incoming usage in the action phase (August) decreases the likelihood of churn. This means that customers who are receiving more incoming calls are more engaged and less likely to churn.</li>\r\n",
    "    <li><strong>total_og_mou_8 (Total Outgoing Minutes of Usage in August):</strong> Similar to incoming calls, higher outgoing usage also reduces the probability of churn. High outgoing calls may indicate customer engagement.</li>\r\n",
    "    <li><strong>onnet_mou_8 (On-network Minutes of Usage in August):</strong> A positive coefficient indicates that high on-net usage (calls within the same network) might be associated with increased churn risk. It may reflect dissatisfaction despite high network usage, or possibly indicate price sensitivity if users are mainly sticking to cheaper on-net calls.</li>\r\n",
    "    <li><strong>sep_vbc_3g (Data Volume Charged Beyond Committed Quota):</strong> This feature shows a positive coefficient, meaning that if a customer is using 3G data beyond their allowed quota, they are more likely to churn. Customers being charged extra for data usage could feel dissatisfied, leading them to seek better plans with competitors.</li>\r\n",
    "    <li><strong>offnet_mou_8 (Off-network Minutes of Usage in August):</strong> The coefficient here suggests that high off-network usage can also be associated with an increased risk of churn. This might be because these calls are more expensive compared to on-net calls, making customers more sensitive to price or leading them to explore cheaper options.</li>\r\n",
    "    <li><strong>loc_ic_mou_8 (Local Incoming Minutes of Usage) and loc_og_t2t_mou_8 (Local Outgoing to the Same Network):</strong> These features also indicate notable impact, with higher values generally decreasing the churn probability. This is in line with higher overall engagement reducing churn.</li>\r\n",
    "</ul>\r\n",
    "<p>These observations help us understand the behaviors that are likely to reduce or increase customer churn, and can be used to craft targeted interventions for customer retention.</p>\r\n"
   ]
  },
  {
   "cell_type": "markdown",
   "id": "b85a2284-4934-43a4-b544-83f62bea6b0c",
   "metadata": {
    "jp-MarkdownHeadingCollapsed": true
   },
   "source": [
    "<h2>Step 11: Business Recommendations</h2>"
   ]
  },
  {
   "cell_type": "markdown",
   "id": "aca46b07-3686-4eb0-bd4f-7d1ce18c2b11",
   "metadata": {},
   "source": [
    "<h3>Business Recommendations</h3>\r\n",
    "<p>Based on our analysis of feature importance, we have identified key factors contributing to customer churn. Below are actionable recommendations for the telecom company to help reduce churn:</p>\r\n",
    "<ul>\r\n",
    "  <li><strong>Promote Higher Engagement Through Outgoing and Incoming Calls:</strong> Customers with higher call activity are less likely to churn. The company can encourage call activity by offering incentives like free minutes, loyalty programs, or targeted discounts for frequent callers.</li>\r\n",
    "  <li><strong>Address Price Sensitivity for On-Net and Off-Net Calls:</strong> Features like <code>onnet_mou_8</code> and <code>offnet_mou_8</code> show an association with churn, likely due to perceived or real cost differences. Offering competitive pricing or bundling on-net and off-net minutes together could help retain customers who are price-sensitive.</li>\r\n",
    "  <li><strong>Offer Data Plans with No Overages:</strong> Customers who exceed their 3G data quota (as indicated by <code>sep_vbc_3g</code>) are more likely to churn. This suggests dissatisfaction with overage charges. Introducing data rollover, reducing the cost of extra data, or providing \"no overage\" options could improve satisfaction and reduce churn.</li>\r\n",
    "  <li><strong>Monitor Engagement Metrics:</strong> The company should monitor metrics like incoming/outgoing minutes, data usage trends, and recharge patterns. A declining trend in these metrics should be flagged for proactive retention campaigns targeting those at higher risk of churning.</li>\r\n",
    "  <li><strong>Personalized Interventions:</strong> Based on the identified trends, personalized offers can be targeted at customers showing declining call or data usage. For example, if a customer’s data usage drops significantly, an additional data package at a discounted rate could be offered to re-engage them.</li>\r\n",
    "</ul>\r\n",
    "<p>Implementing these strategies will help the company improve customer satisfaction and reduce the churn ate.</p>\r\n"
   ]
  },
  {
   "cell_type": "markdown",
   "id": "287c8d67-5781-4fb0-8f6a-9842a8f9d93b",
   "metadata": {},
   "source": [
    "<h2>Step 12: Hyperparameter Tuning</h2>"
   ]
  },
  {
   "cell_type": "markdown",
   "id": "92894689-d6ba-48c2-bfc2-e9aadf656462",
   "metadata": {},
   "source": [
    "<h3>Step 12.1: Hyperparameter Tuning for Logistic Regression</h3>\r\n",
    "<p>In this step, we will perform hyperparameter tuning to improve the performance of our Logistic Regression model. We will use a <code>GridSearchCV</code> approach to identify the best hyperparameter settings for regularization strength (C) and solver. This will help us reduce bias, manage variance, and ultimately improve model accuracy and recall for predicting customer churn.</p>\r\n"
   ]
  },
  {
   "cell_type": "markdown",
   "id": "91301c01-8bba-42da-8224-dc3f7dac1292",
   "metadata": {},
   "source": [
    "<h3>Step 12.2: Python Code Cell: Set Up and Execute Hyperparameter Tuning with GridSearchCV</h3>"
   ]
  },
  {
   "cell_type": "code",
   "execution_count": 107,
   "id": "141bd058-2bc9-413d-9ade-8420547a1a47",
   "metadata": {},
   "outputs": [
    {
     "name": "stdout",
     "output_type": "stream",
     "text": [
      "Fitting 5 folds for each of 18 candidates, totalling 90 fits\n",
      "Best Hyperparameters: {'C': 10, 'solver': 'liblinear'}\n",
      "Tuned Logistic Regression Classification Report:\n",
      "              precision    recall  f1-score   support\n",
      "\n",
      "           0       0.98      0.84      0.90      5484\n",
      "           1       0.33      0.81      0.47       519\n",
      "\n",
      "    accuracy                           0.84      6003\n",
      "   macro avg       0.65      0.83      0.69      6003\n",
      "weighted avg       0.92      0.84      0.87      6003\n",
      "\n",
      "Confusion Matrix:\n",
      "[[4612  872]\n",
      " [  97  422]]\n",
      "Accuracy Score (Tuned Model): 0.8386\n"
     ]
    }
   ],
   "source": [
    "from sklearn.model_selection import GridSearchCV\n",
    "\n",
    "# Setting up the parameter grid for hyperparameter tuning\n",
    "param_grid = {\n",
    "    'C': [0.001, 0.01, 0.1, 1, 10, 100],  # Inverse of regularization strength\n",
    "    'solver': ['lbfgs', 'liblinear', 'saga']  # Different solvers to explore\n",
    "}\n",
    "\n",
    "# Creating the Logistic Regression model instance\n",
    "log_reg = LogisticRegression(max_iter=2000, random_state=42, class_weight='balanced')\n",
    "\n",
    "# Setting up GridSearchCV to find the best hyperparameters\n",
    "grid_search = GridSearchCV(estimator=log_reg, param_grid=param_grid, cv=5, scoring='f1', n_jobs=-1, verbose=2)\n",
    "\n",
    "# Running GridSearchCV on the scaled training data\n",
    "grid_search.fit(X_train_scaled, y_train)\n",
    "\n",
    "# Extracting the best model and its parameters\n",
    "best_log_reg = grid_search.best_estimator_\n",
    "print(\"Best Hyperparameters:\", grid_search.best_params_)\n",
    "\n",
    "# Predicting on the test set using the tuned model\n",
    "y_pred_best_log = best_log_reg.predict(X_test_scaled)\n",
    "\n",
    "# Evaluating the tuned Logistic Regression Model\n",
    "print(\"Tuned Logistic Regression Classification Report:\")\n",
    "print(classification_report(y_test, y_pred_best_log))\n",
    "\n",
    "# Display confusion matrix for additional insights\n",
    "print(\"Confusion Matrix:\")\n",
    "print(confusion_matrix(y_test, y_pred_best_log))\n",
    "\n",
    "# Accuracy Score for overall performance understanding\n",
    "print(f\"Accuracy Score (Tuned Model): {accuracy_score(y_test, y_pred_best_log):.4f}\")"
   ]
  },
  {
   "cell_type": "markdown",
   "id": "2bc04491-2581-4da8-a33d-2dce2b10bedd",
   "metadata": {},
   "source": [
    "<h2>Step 13: Evaluating Tuned Results</h2>\n",
    "<h3>Step 13.1 Markdown Cell: Evaluating Tuned Model</h3>\r\n",
    "<p>After performing hyperparameter tuning using <code>GridSearchCV</code>, we need to evaluate the performance of the tuned model compared to our baseline model. We will look at metrics such as precision, recall, F1-score, and accuracy, which provide insights into the quality of our model predictions, especially for the minority class (churned customers).</p\r\n"
   ]
  },
  {
   "cell_type": "markdown",
   "id": "d04b48ca-479f-4ca4-a75d-efa6690c20b2",
   "metadata": {},
   "source": [
    "<h3>Steps to Evaluate the Tuned Model</h3>"
   ]
  },
  {
   "cell_type": "markdown",
   "id": "f979202d-d54c-4bec-9f7e-807f24671e38",
   "metadata": {},
   "source": [
    "<h4>Step 13.1.1: Best Hyperparameters and Model Summary</h4>"
   ]
  },
  {
   "cell_type": "code",
   "execution_count": 113,
   "id": "04170df8-3d2c-43ec-9b33-f391926766c5",
   "metadata": {},
   "outputs": [
    {
     "name": "stdout",
     "output_type": "stream",
     "text": [
      "Best Hyperparameters: {'C': 10, 'solver': 'liblinear'}\n"
     ]
    }
   ],
   "source": [
    "# Displaying the best hyperparameters found by GridSearchCV\n",
    "print(\"Best Hyperparameters:\", grid_search.best_params_)"
   ]
  },
  {
   "cell_type": "markdown",
   "id": "f91a86c1-98e3-4cfd-8248-8e29bdbfee1a",
   "metadata": {},
   "source": [
    "<h4>Step 13.1.2: Predict on Test Data with Tuned Model</h4>"
   ]
  },
  {
   "cell_type": "code",
   "execution_count": 117,
   "id": "320d346a-aa47-417f-9d1a-3250bc0d4887",
   "metadata": {},
   "outputs": [],
   "source": [
    "# Predict on the test set using the best estimator from GridSearchCV\n",
    "y_pred_best_log = best_log_reg.predict(X_test_scaled)"
   ]
  },
  {
   "cell_type": "markdown",
   "id": "b127bc47-ade4-4b64-a645-5a24fa88d218",
   "metadata": {},
   "source": [
    "<h4>Step 13.1.3:Evaluate Classification Metrics</h4>"
   ]
  },
  {
   "cell_type": "code",
   "execution_count": 119,
   "id": "b1b9b42c-e6ad-4e58-9f1d-6755e83002e3",
   "metadata": {},
   "outputs": [
    {
     "name": "stdout",
     "output_type": "stream",
     "text": [
      "Tuned Logistic Regression Classification Report:\n",
      "              precision    recall  f1-score   support\n",
      "\n",
      "           0       0.98      0.84      0.90      5484\n",
      "           1       0.33      0.81      0.47       519\n",
      "\n",
      "    accuracy                           0.84      6003\n",
      "   macro avg       0.65      0.83      0.69      6003\n",
      "weighted avg       0.92      0.84      0.87      6003\n",
      "\n",
      "Confusion Matrix:\n",
      "[[4612  872]\n",
      " [  97  422]]\n",
      "Accuracy Score (Tuned Model): 0.8386\n"
     ]
    }
   ],
   "source": [
    "from sklearn.metrics import classification_report, confusion_matrix, accuracy_score\n",
    "\n",
    "# Evaluate the tuned model\n",
    "print(\"Tuned Logistic Regression Classification Report:\")\n",
    "print(classification_report(y_test, y_pred_best_log))\n",
    "\n",
    "# Confusion matrix to get an idea of the number of true positives, false positives, etc.\n",
    "print(\"Confusion Matrix:\")\n",
    "print(confusion_matrix(y_test, y_pred_best_log))\n",
    "\n",
    "# Accuracy score for a general sense of how well the model performs\n",
    "print(f\"Accuracy Score (Tuned Model): {accuracy_score(y_test, y_pred_best_log):.4f}\")"
   ]
  },
  {
   "cell_type": "markdown",
   "id": "b55ac6ed-3ff1-4fb7-8cff-106fda23dc3f",
   "metadata": {},
   "source": [
    "<h4>Step 13.1.4:Compare to Baseline Metrics</h4>"
   ]
  },
  {
   "cell_type": "code",
   "execution_count": 124,
   "id": "550139ab-e5f3-488d-a4bf-10ead2507d94",
   "metadata": {},
   "outputs": [
    {
     "name": "stdout",
     "output_type": "stream",
     "text": [
      "Comparison Between Baseline and Tuned Model Performance:\n",
      "\n",
      "Metric              Baseline Model      Tuned Model         \n",
      "------------------------------------------------------------\n",
      "Precision (Churn)   0.3254              0.3261              \n",
      "Recall (Churn)      0.8131              0.8131              \n",
      "F1 Score (Churn)    0.4648              0.4655              \n",
      "Accuracy            0.8381              0.8386              \n"
     ]
    }
   ],
   "source": [
    "from sklearn.metrics import precision_score, recall_score, f1_score\n",
    "\n",
    "# Baseline Model Evaluation Metrics\n",
    "baseline_precision = precision_score(y_test, y_pred_log, pos_label=1)\n",
    "baseline_recall = recall_score(y_test, y_pred_log, pos_label=1)\n",
    "baseline_f1 = f1_score(y_test, y_pred_log, pos_label=1)\n",
    "baseline_accuracy = accuracy_score(y_test, y_pred_log)\n",
    "\n",
    "# Tuned Model Evaluation Metrics\n",
    "tuned_precision = precision_score(y_test, y_pred_best_log, pos_label=1)\n",
    "tuned_recall = recall_score(y_test, y_pred_best_log, pos_label=1)\n",
    "tuned_f1 = f1_score(y_test, y_pred_best_log, pos_label=1)\n",
    "tuned_accuracy = accuracy_score(y_test, y_pred_best_log)\n",
    "\n",
    "# Displaying the comparison of the baseline and tuned models\n",
    "print(\"Comparison Between Baseline and Tuned Model Performance:\\n\")\n",
    "print(f\"{'Metric':<20}{'Baseline Model':<20}{'Tuned Model':<20}\")\n",
    "print(f\"{'-'*60}\")\n",
    "print(f\"{'Precision (Churn)':<20}{baseline_precision:<20.4f}{tuned_precision:<20.4f}\")\n",
    "print(f\"{'Recall (Churn)':<20}{baseline_recall:<20.4f}{tuned_recall:<20.4f}\")\n",
    "print(f\"{'F1 Score (Churn)':<20}{baseline_f1:<20.4f}{tuned_f1:<20.4f}\")\n",
    "print(f\"{'Accuracy':<20}{baseline_accuracy:<20.4f}{tuned_accuracy:<20.4f}\")"
   ]
  },
  {
   "cell_type": "markdown",
   "id": "165842d5-6642-46b0-8aef-e264ea762e50",
   "metadata": {},
   "source": [
    "<h3>Summary of Model Performance Improvements</h3>\r\n",
    "\r\n",
    "<p><strong>Objective:</strong> To evaluate the effectiveness of hyperparameter tuning on the Logistic Regression model for predicting customer churn in a telecom dataset.</p>\r\n",
    "\r\n",
    "<h4>Key Metrics Compared:</h4>\r\n",
    "<ul>\r\n",
    "  <li><strong>Precision</strong> (Churn Class)</li>\r\n",
    "  <li><strong>Recall</strong> (Churn Class)</li>\r\n",
    "  <li><strong>F1 Score</strong> (Churn Class)</li>\r\n",
    "  <li><strong>Accuracy</strong></li>\r\n",
    "</ul>\r\n",
    "\r\n",
    "<h4>Performance Improvements: Baseline vs. Tuned Model</h4>\r\n",
    "<table>\r\n",
    "  <thead>\r\n",
    "    <tr>\r\n",
    "      <th>Metric</th>\r\n",
    "      <th>Baseline Model</th>\r\n",
    "      <th>Tuned Model</th>\r\n",
    "      <th>Improvement</th>\r\n",
    "    </tr>\r\n",
    "  </thead>\r\n",
    "  <tbody>\r\n",
    "    <tr>\r\n",
    "      <td>Precision (Churn)</td>\r\n",
    "      <td>0.3254</td>\r\n",
    "      <td>0.3261</td>\r\n",
    "      <td>+0.0007 (0.07%)</td>\r\n",
    "    </tr>\r\n",
    "    <tr>\r\n",
    "      <td>Recall (Churn)</td>\r\n",
    "      <td>0.8131</td>\r\n",
    "      <td>0.8131</td>\r\n",
    "      <td>No change</td>\r\n",
    "    </tr>\r\n",
    "    <tr>\r\n",
    "      <td>F1 Score (Churn)</td>\r\n",
    "      <td>0.4648</td>\r\n",
    "      <td>0.4655</td>\r\n",
    "      <td>+0.0007 (0.07%)</td>\r\n",
    "    </tr>\r\n",
    "    <tr>\r\n",
    "      <td>Accuracy</td>\r\n",
    "      <td>0.8381</td>\r\n",
    "      <td>0.8386</td>\r\n",
    "      <td>+0.0005 (0.05%)</td>\r\n",
    "    </tr>\r\n",
    "  </tbody>\r\n",
    "</table>\r\n",
    "\r\n",
    "<h4>Key Observations:</h4>\r\n",
    "<ul>\r\n",
    "  <li><strong>Precision Improvement:</strong> Increased from 0.3254 to 0.3261 (+0.07%). This indicates a slight reduction in false positives, meaning the tuned model is marginally better at correctly identifying actual churners among those predicted to churn.</li>\r\n",
    "  \r\n",
    "  <li><strong>Recall Remained Consistent:</strong> The recall for the churn class remained unchanged at 0.8131. The model maintained a high recall, continuing to correctly identify over 81% of customers at risk of churning, which is crucial for retention efforts.</li>\r\n",
    "\r\n",
    "  <li><strong>F1 Score Improvement:</strong> Increased from 0.4648 to 0.4655 (+0.07%). This small improvement in F1 Score indicates a slightly better balance between precision and recall, making the model a little more effective at making reliable predictions about customer churn.</li>\r\n",
    "\r\n",
    "  <li><strong>Accuracy:</strong> Increased slightly from 0.8381 to 0.8386 (+0.05%). While the accuracy improved, it is not the primary metric of focus due to the imbalanced nature of the dataset.</li>\r\n",
    "</ul>\r\n",
    "\r\n",
    "<h4>Overall Summary:</h4>\r\n",
    "<ul>\r\n",
    "  <li><strong>Slight Improvements in Model Performance:</strong> The tuned model shows minor improvements in precision and F1 Score compared to the baseline model, indicating that hyperparameter tuning helped the model make more accurate predictions about customer churn. Although the improvements were small, any increase in precision and F1 Score can positively impact the business's ability to accurately target churn-prone customers.</li>\r\n",
    "\r\n",
    "  <li><strong>Business Impact:</strong> A small improvement in precision means fewer false positives, which can save marketing resources from being wasted on customers who are unlikely to churn. Maintaining a high recall ensures that the majority of customers at risk of churning are still identified, allowing proactive measures to be taken.</li>\r\n",
    "\r\n",
    "  <li><strong>Considerations for Further Improvement:</strong> The small improvements suggest that Logistic Regression may have limitations in capturing complex patterns in the data. Moving forward, exploring more sophisticated models like Random Forest or XGBoost could yield better results, particularly by capturing non-linear relationships and interactions between features.</li>\r\n",
    "</ul>\r\n"
   ]
  }
 ],
 "metadata": {
  "kernelspec": {
   "display_name": "Python 3 (ipykernel)",
   "language": "python",
   "name": "python3"
  },
  "language_info": {
   "codemirror_mode": {
    "name": "ipython",
    "version": 3
   },
   "file_extension": ".py",
   "mimetype": "text/x-python",
   "name": "python",
   "nbconvert_exporter": "python",
   "pygments_lexer": "ipython3",
   "version": "3.12.4"
  }
 },
 "nbformat": 4,
 "nbformat_minor": 5
}
